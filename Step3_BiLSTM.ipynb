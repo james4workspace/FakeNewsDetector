{
 "cells": [
  {
   "cell_type": "markdown",
   "metadata": {},
   "source": [
    "# 1.Import Data"
   ]
  },
  {
   "cell_type": "code",
   "execution_count": 1,
   "metadata": {},
   "outputs": [],
   "source": [
    "import numpy as np\n",
    "import pickle\n",
    "import sklearn\n",
    "import tensorflow as tf\n",
    "from tqdm import tqdm"
   ]
  },
  {
   "cell_type": "code",
   "execution_count": 2,
   "metadata": {},
   "outputs": [],
   "source": [
    "# function for loading pickle file\n",
    "def loadPickle(file_name):\n",
    "    picklefile = open('.\\\\DataSet\\\\'+file_name+\".pkl\",mode=\"rb\")\n",
    "    data = pickle.load(picklefile)\n",
    "    picklefile.close()\n",
    "    return data"
   ]
  },
  {
   "cell_type": "code",
   "execution_count": 3,
   "metadata": {},
   "outputs": [],
   "source": [
    "y_train = loadPickle('y_train')\n",
    "y_test = loadPickle('y_test')\n",
    "X_train = loadPickle('X_train_vec')\n",
    "X_test = loadPickle('X_test_vec')"
   ]
  },
  {
   "cell_type": "markdown",
   "metadata": {},
   "source": [
    "# 2. Preprocessing for padding the matrix to same size\n",
    "## 2.1. Get Max Length of Rows in X"
   ]
  },
  {
   "cell_type": "code",
   "execution_count": 4,
   "metadata": {},
   "outputs": [],
   "source": [
    "# increase the length of each text in each row till it matches the max length of all the texts\n",
    "def getlenMax(input_data):\n",
    "    'function for estimating the max length of text in data'\n",
    "    max_no = 0\n",
    "    for text in input_data:\n",
    "        num_word = len(text)\n",
    "        if max_no <= num_word:\n",
    "            max_no = num_word\n",
    "\n",
    "    return max_no\n",
    "\n",
    "def compare(train,test):\n",
    "    'function for comparison between test and train'\n",
    "    no_train = getlenMax(train)\n",
    "    no_test = getlenMax(test)\n",
    "    if no_train > no_test:\n",
    "        return no_train\n",
    "    else:\n",
    "        return no_test"
   ]
  },
  {
   "cell_type": "code",
   "execution_count": 5,
   "metadata": {},
   "outputs": [
    {
     "name": "stdout",
     "output_type": "stream",
     "text": [
      "4327\n"
     ]
    }
   ],
   "source": [
    "max_len = compare(X_train,X_test)\n",
    "print(max_len) # get the max length of rows in X"
   ]
  },
  {
   "cell_type": "markdown",
   "metadata": {},
   "source": [
    "## 2.2. Padding the format\n",
    "#### because LSTM is time-series model, pre-padding make more sense"
   ]
  },
  {
   "cell_type": "code",
   "execution_count": 6,
   "metadata": {},
   "outputs": [],
   "source": [
    "def extendText(input_data, len_max,padding=\"pre\",dimension=300):\n",
    "    content=list()\n",
    "    if padding == \"post\":\n",
    "        for text in tqdm(input_data):\n",
    "            add_no = len_max - len(text)\n",
    "            x = np.zeros((add_no,dimension))\n",
    "            new_text = np.vstack((text,x))#padding is post\n",
    "            content.append(new_text)\n",
    "            \n",
    "    elif padding == \"pre\":\n",
    "        for text in tqdm(input_data):\n",
    "            add_no = len_max - len(text)\n",
    "            x = np.zeros((add_no,dimension))\n",
    "            new_text = np.vstack((x,text))#padding is pre\n",
    "            content.append(new_text)\n",
    "\n",
    "    content = np.array(content)\n",
    "    return content"
   ]
  },
  {
   "cell_type": "code",
   "execution_count": 7,
   "metadata": {},
   "outputs": [
    {
     "name": "stderr",
     "output_type": "stream",
     "text": [
      "100%|██████████████████████████████████████████████████████████████████████████████████| 2/2 [00:00<00:00, 2035.58it/s]"
     ]
    },
    {
     "name": "stdout",
     "output_type": "stream",
     "text": [
      "[[[0. 0. 0.]\n",
      "  [0. 0. 0.]\n",
      "  [0. 0. 0.]\n",
      "  ...\n",
      "  [0. 0. 0.]\n",
      "  [1. 2. 3.]\n",
      "  [3. 4. 5.]]\n",
      "\n",
      " [[0. 0. 0.]\n",
      "  [0. 0. 0.]\n",
      "  [0. 0. 0.]\n",
      "  ...\n",
      "  [0. 0. 0.]\n",
      "  [1. 2. 3.]\n",
      "  [4. 5. 6.]]]\n",
      "4327\n"
     ]
    },
    {
     "name": "stderr",
     "output_type": "stream",
     "text": [
      "\n"
     ]
    }
   ],
   "source": [
    "test = [[[1,2,3],[3,4,5]],[[1,2,3],[4,5,6]]]\n",
    "test = np.array(test)\n",
    "test = extendText(test,max_len,dimension=3)\n",
    "print(test)\n",
    "print(len(test[0]))"
   ]
  },
  {
   "cell_type": "code",
   "execution_count": 8,
   "metadata": {},
   "outputs": [
    {
     "name": "stderr",
     "output_type": "stream",
     "text": [
      "100%|█████████████████████████████████████████████████████████████████████████████| 1404/1404 [00:05<00:00, 253.41it/s]\n",
      "100%|███████████████████████████████████████████████████████████████████████████████| 351/351 [00:01<00:00, 191.49it/s]\n"
     ]
    }
   ],
   "source": [
    "X_train = extendText(X_train,max_len)\n",
    "X_test = extendText(X_test,max_len)"
   ]
  },
  {
   "cell_type": "markdown",
   "metadata": {},
   "source": [
    "# 3. Build BiLSTM\n",
    "## 3.1. Initialize the Model and Add the Layers"
   ]
  },
  {
   "cell_type": "code",
   "execution_count": 9,
   "metadata": {},
   "outputs": [],
   "source": [
    "# import libraries\n",
    "import keras\n",
    "from keras.layers import LSTM\n",
    "from keras.layers import MaxPooling1D\n",
    "from keras.layers import Dropout\n",
    "from keras.layers import Dense\n",
    "from keras.layers import Bidirectional\n",
    "from keras_self_attention import SeqSelfAttention"
   ]
  },
  {
   "cell_type": "code",
   "execution_count": 23,
   "metadata": {},
   "outputs": [
    {
     "name": "stdout",
     "output_type": "stream",
     "text": [
      "(4327, 300)\n"
     ]
    }
   ],
   "source": [
    "# firstly we need to make sure our input share the same format\n",
    "input_shape = X_train[0].shape\n",
    "print(input_shape) # this means 300 length vectors with 162 timesteps"
   ]
  },
  {
   "cell_type": "code",
   "execution_count": 70,
   "metadata": {},
   "outputs": [],
   "source": [
    "def modelBuild(input_shape):\n",
    "    # initialize model\n",
    "    model = keras.Sequential()\n",
    "    \n",
    "    # add 1st BiLSTM layer, I need to set the input_shape directly, \n",
    "    # which should be 2 dimensions, one for the timesteps, one for the indicators inside\n",
    "    # because sentence can be complex, here I should set the LSTM cells number as 50, but in order to lower the consuming time, I only set 5\n",
    "    forward_layer = LSTM(units = 5, activation=\"tanh\",dropout=0.2, recurrent_activation=\"sigmoid\", return_sequences = True)\n",
    "    #backward_layer = LSTM(units = 10, activation='relu',dropout=0.2, return_sequences=True, go_backwards=True)\n",
    "    model.add(Bidirectional(layer = forward_layer,merge_mode=\"concat\",input_shape = input_shape))\n",
    "    \n",
    "    forward_layer2 = LSTM(units = 5, activation=\"tanh\",dropout=0.2, recurrent_activation=\"sigmoid\")\n",
    "    # add 2nd LSTM layer\n",
    "    model.add(Bidirectional(layer = forward_layer2))\n",
    "    \n",
    "   \n",
    "    # add output layer, since the data has 2 output [0,1] as label, I set the final neurons number as 1\n",
    "    model.add(Dense(units=1, activation='sigmoid'))\n",
    "    \n",
    "    return model"
   ]
  },
  {
   "cell_type": "markdown",
   "metadata": {},
   "source": [
    "## 3.2. Compilation"
   ]
  },
  {
   "cell_type": "code",
   "execution_count": 71,
   "metadata": {},
   "outputs": [],
   "source": [
    "model = modelBuild(input_shape)"
   ]
  },
  {
   "cell_type": "code",
   "execution_count": 72,
   "metadata": {},
   "outputs": [],
   "source": [
    "# compilation\n",
    "# we use stochastic gradient descent as our optimizer, cross entropy as our loss function\n",
    "# it's because I use integer binary result [0,1] as label, so I use binary crossentropy as my loss function\n",
    "model.compile(optimizer = 'adam', loss = 'binary_crossentropy', metrics = ['accuracy'])"
   ]
  },
  {
   "cell_type": "code",
   "execution_count": 73,
   "metadata": {},
   "outputs": [
    {
     "name": "stdout",
     "output_type": "stream",
     "text": [
      "Model: \"sequential_9\"\n",
      "_________________________________________________________________\n",
      "Layer (type)                 Output Shape              Param #   \n",
      "=================================================================\n",
      "bidirectional_17 (Bidirectio (None, 4327, 10)          12240     \n",
      "_________________________________________________________________\n",
      "bidirectional_18 (Bidirectio (None, 10)                640       \n",
      "_________________________________________________________________\n",
      "dense_7 (Dense)              (None, 1)                 11        \n",
      "=================================================================\n",
      "Total params: 12,891\n",
      "Trainable params: 12,891\n",
      "Non-trainable params: 0\n",
      "_________________________________________________________________\n"
     ]
    }
   ],
   "source": [
    "model.summary()"
   ]
  },
  {
   "cell_type": "markdown",
   "metadata": {},
   "source": [
    "## 3.3. Function for Storage of Model"
   ]
  },
  {
   "cell_type": "code",
   "execution_count": 74,
   "metadata": {},
   "outputs": [],
   "source": [
    "# global parameter\n",
    "modelname=\"BiLSTM\""
   ]
  },
  {
   "cell_type": "code",
   "execution_count": 75,
   "metadata": {},
   "outputs": [],
   "source": [
    "def saveModel(model,modelname):\n",
    "    model_json=model.to_json()\n",
    "    # specialize model to json\n",
    "    name_path = \"DataSet\\\\{a}\".format(a=modelname)\n",
    "    with open(name_path+\".json\",\"w\") as json_file:\n",
    "        json_file.write(model_json)\n",
    "        \n",
    "    # sepcialize weights to HDF5\n",
    "    model.save_weights(name_path+\".h5\")\n",
    "    print(\"Save model to DataSet archive successfully\")"
   ]
  },
  {
   "cell_type": "markdown",
   "metadata": {},
   "source": [
    "# 4. Train Model"
   ]
  },
  {
   "cell_type": "code",
   "execution_count": 78,
   "metadata": {},
   "outputs": [],
   "source": [
    "epochs = 20\n",
    "batch = 50\n",
    "vali_split=0.1\n",
    "# though validation_data is not used in propagation, the model will be gradually familier with validation data. There can be information leak.\n",
    "# therefore, normally use validation_split for testing model to avoid overfitting"
   ]
  },
  {
   "cell_type": "code",
   "execution_count": 79,
   "metadata": {},
   "outputs": [
    {
     "name": "stdout",
     "output_type": "stream",
     "text": [
      "Epoch 1/2\n",
      "26/26 [==============================] - 400s 15s/step - loss: 0.1808 - accuracy: 0.9604 - val_loss: 0.1888 - val_accuracy: 0.9362\n",
      "Epoch 2/2\n",
      "26/26 [==============================] - 396s 15s/step - loss: 0.1839 - accuracy: 0.9541 - val_loss: 0.1279 - val_accuracy: 0.9787\n",
      "Save model to DataSet archive successfully\n"
     ]
    }
   ],
   "source": [
    "history = model.fit(x = X_train,y=y_train,validation_split=vali_split, epochs =epochs, batch_size=batch)\n",
    "saveModel(model,modelname)"
   ]
  },
  {
   "cell_type": "markdown",
   "metadata": {},
   "source": [
    "# 5. Load Model"
   ]
  },
  {
   "cell_type": "code",
   "execution_count": 80,
   "metadata": {},
   "outputs": [],
   "source": [
    "def loadModel(modelname):\n",
    "    # load json file\n",
    "    load_path = \".\\\\DataSet\\\\{a}\".format(a=modelname)\n",
    "    json_file = open(load_path+\".json\",'r')\n",
    "    model_json = json_file.read()\n",
    "    json_file.close()\n",
    "    model = keras.models.model_from_json(model_json)\n",
    "    # load weights and assign them to the model\n",
    "    model.load_weights(load_path+\".h5\")\n",
    "    print(\"loaded {a} model successfully\".format(a=modelname))\n",
    "    \n",
    "    return model"
   ]
  },
  {
   "cell_type": "code",
   "execution_count": 81,
   "metadata": {},
   "outputs": [
    {
     "name": "stdout",
     "output_type": "stream",
     "text": [
      "loaded BiLSTM model successfully\n"
     ]
    }
   ],
   "source": [
    "model = loadModel(modelname)"
   ]
  },
  {
   "cell_type": "markdown",
   "metadata": {},
   "source": [
    "# 6. Prediction"
   ]
  },
  {
   "cell_type": "code",
   "execution_count": 83,
   "metadata": {},
   "outputs": [],
   "source": [
    "y_possible = model.predict(X_test)"
   ]
  },
  {
   "cell_type": "code",
   "execution_count": 94,
   "metadata": {},
   "outputs": [
    {
     "data": {
      "text/plain": [
       "array([[0.10358465],\n",
       "       [0.06755954],\n",
       "       [0.9180702 ],\n",
       "       [0.06812197],\n",
       "       [0.06392232],\n",
       "       [0.9138226 ],\n",
       "       [0.90771556],\n",
       "       [0.06397974],\n",
       "       [0.91055924],\n",
       "       [0.23385051],\n",
       "       [0.08206993],\n",
       "       [0.06761158],\n",
       "       [0.07469389],\n",
       "       [0.9126676 ],\n",
       "       [0.07746908],\n",
       "       [0.81029975],\n",
       "       [0.9223196 ],\n",
       "       [0.9119033 ],\n",
       "       [0.06703079],\n",
       "       [0.9151062 ],\n",
       "       [0.9146739 ],\n",
       "       [0.06371745],\n",
       "       [0.92194164],\n",
       "       [0.91214734],\n",
       "       [0.90737927],\n",
       "       [0.07862231],\n",
       "       [0.90914696],\n",
       "       [0.9078839 ],\n",
       "       [0.07295573],\n",
       "       [0.92110795],\n",
       "       [0.8372765 ],\n",
       "       [0.06826371],\n",
       "       [0.06576926],\n",
       "       [0.9202039 ],\n",
       "       [0.07906097],\n",
       "       [0.07047924],\n",
       "       [0.88317025],\n",
       "       [0.9201918 ],\n",
       "       [0.09170637],\n",
       "       [0.913594  ],\n",
       "       [0.9127896 ],\n",
       "       [0.06419018],\n",
       "       [0.07280502],\n",
       "       [0.9101367 ],\n",
       "       [0.91424334],\n",
       "       [0.07799736],\n",
       "       [0.08485469],\n",
       "       [0.1725514 ],\n",
       "       [0.9079129 ],\n",
       "       [0.86673856],\n",
       "       [0.8597587 ],\n",
       "       [0.08453304],\n",
       "       [0.07958305],\n",
       "       [0.07317644],\n",
       "       [0.06480554],\n",
       "       [0.9034854 ],\n",
       "       [0.9085671 ],\n",
       "       [0.19452351],\n",
       "       [0.91915643],\n",
       "       [0.07677159],\n",
       "       [0.10095924],\n",
       "       [0.06447041],\n",
       "       [0.9146286 ],\n",
       "       [0.9058777 ],\n",
       "       [0.06440872],\n",
       "       [0.06435126],\n",
       "       [0.87695223],\n",
       "       [0.07997859],\n",
       "       [0.9225123 ],\n",
       "       [0.06427798],\n",
       "       [0.9172676 ],\n",
       "       [0.08010384],\n",
       "       [0.07995671],\n",
       "       [0.9143634 ],\n",
       "       [0.06681678],\n",
       "       [0.07055569],\n",
       "       [0.90485936],\n",
       "       [0.87198174],\n",
       "       [0.06528842],\n",
       "       [0.92033565],\n",
       "       [0.9135301 ],\n",
       "       [0.91635704],\n",
       "       [0.07106656],\n",
       "       [0.2247926 ],\n",
       "       [0.07940176],\n",
       "       [0.06727707],\n",
       "       [0.9069993 ],\n",
       "       [0.07721722],\n",
       "       [0.91152114],\n",
       "       [0.8935642 ],\n",
       "       [0.90633476],\n",
       "       [0.06375039],\n",
       "       [0.08137211],\n",
       "       [0.0715448 ],\n",
       "       [0.8902337 ],\n",
       "       [0.06622723],\n",
       "       [0.08373803],\n",
       "       [0.9181181 ],\n",
       "       [0.15365508],\n",
       "       [0.06780046],\n",
       "       [0.92902946],\n",
       "       [0.5593325 ],\n",
       "       [0.11788696],\n",
       "       [0.9209317 ],\n",
       "       [0.06424883],\n",
       "       [0.06919307],\n",
       "       [0.92902946],\n",
       "       [0.9074352 ],\n",
       "       [0.91913235],\n",
       "       [0.1723716 ],\n",
       "       [0.9046477 ],\n",
       "       [0.06437913],\n",
       "       [0.90164137],\n",
       "       [0.9123794 ],\n",
       "       [0.07293171],\n",
       "       [0.06409901],\n",
       "       [0.06724465],\n",
       "       [0.06719676],\n",
       "       [0.90576714],\n",
       "       [0.91025984],\n",
       "       [0.0862473 ],\n",
       "       [0.9104117 ],\n",
       "       [0.8819212 ],\n",
       "       [0.09975281],\n",
       "       [0.9223788 ],\n",
       "       [0.51517123],\n",
       "       [0.8938291 ],\n",
       "       [0.90668476],\n",
       "       [0.06903279],\n",
       "       [0.86800313],\n",
       "       [0.70643556],\n",
       "       [0.07396486],\n",
       "       [0.06392315],\n",
       "       [0.90824246],\n",
       "       [0.07385841],\n",
       "       [0.5674997 ],\n",
       "       [0.07455504],\n",
       "       [0.89339185],\n",
       "       [0.93246174],\n",
       "       [0.9155522 ],\n",
       "       [0.08052525],\n",
       "       [0.9203011 ],\n",
       "       [0.87762976],\n",
       "       [0.9023577 ],\n",
       "       [0.8921625 ],\n",
       "       [0.9022808 ],\n",
       "       [0.910813  ],\n",
       "       [0.90865386],\n",
       "       [0.2908662 ],\n",
       "       [0.06409231],\n",
       "       [0.06315115],\n",
       "       [0.06638062],\n",
       "       [0.06585476],\n",
       "       [0.89318573],\n",
       "       [0.06336212],\n",
       "       [0.9122901 ],\n",
       "       [0.10539207],\n",
       "       [0.91244483],\n",
       "       [0.90918255],\n",
       "       [0.08611545],\n",
       "       [0.92266375],\n",
       "       [0.9033145 ],\n",
       "       [0.31045526],\n",
       "       [0.0735448 ],\n",
       "       [0.9175791 ],\n",
       "       [0.91453743],\n",
       "       [0.07302567],\n",
       "       [0.07222888],\n",
       "       [0.90100956],\n",
       "       [0.9097681 ],\n",
       "       [0.91520345],\n",
       "       [0.90715486],\n",
       "       [0.06395596],\n",
       "       [0.89516604],\n",
       "       [0.8865618 ],\n",
       "       [0.17496446],\n",
       "       [0.0870263 ],\n",
       "       [0.06736532],\n",
       "       [0.07392505],\n",
       "       [0.9053149 ],\n",
       "       [0.9189894 ],\n",
       "       [0.91024053],\n",
       "       [0.9116984 ],\n",
       "       [0.90486133],\n",
       "       [0.201989  ],\n",
       "       [0.06414551],\n",
       "       [0.19974664],\n",
       "       [0.9139812 ],\n",
       "       [0.8704853 ],\n",
       "       [0.06587213],\n",
       "       [0.06420955],\n",
       "       [0.17394859],\n",
       "       [0.90667534],\n",
       "       [0.91700125],\n",
       "       [0.91391027],\n",
       "       [0.06399587],\n",
       "       [0.06435478],\n",
       "       [0.11788696],\n",
       "       [0.0649313 ],\n",
       "       [0.07496896],\n",
       "       [0.26510102],\n",
       "       [0.07084382],\n",
       "       [0.06455025],\n",
       "       [0.91639376],\n",
       "       [0.9104403 ],\n",
       "       [0.9113835 ],\n",
       "       [0.0838851 ],\n",
       "       [0.08991665],\n",
       "       [0.07861766],\n",
       "       [0.07378972],\n",
       "       [0.92220366],\n",
       "       [0.88958824],\n",
       "       [0.8597587 ],\n",
       "       [0.06494582],\n",
       "       [0.07434839],\n",
       "       [0.0639044 ],\n",
       "       [0.91409886],\n",
       "       [0.06402597],\n",
       "       [0.8988699 ],\n",
       "       [0.1018528 ],\n",
       "       [0.80426776],\n",
       "       [0.91226816],\n",
       "       [0.09563759],\n",
       "       [0.9317663 ],\n",
       "       [0.75129044],\n",
       "       [0.06832179],\n",
       "       [0.09542716],\n",
       "       [0.9140446 ],\n",
       "       [0.9149027 ],\n",
       "       [0.8935859 ],\n",
       "       [0.91792166],\n",
       "       [0.0656184 ],\n",
       "       [0.08439901],\n",
       "       [0.87792504],\n",
       "       [0.9086466 ],\n",
       "       [0.06449527],\n",
       "       [0.2247926 ],\n",
       "       [0.90932214],\n",
       "       [0.06460834],\n",
       "       [0.911412  ],\n",
       "       [0.0641681 ],\n",
       "       [0.08256376],\n",
       "       [0.07739857],\n",
       "       [0.09323853],\n",
       "       [0.06380054],\n",
       "       [0.06395966],\n",
       "       [0.09958231],\n",
       "       [0.91976786],\n",
       "       [0.06705859],\n",
       "       [0.91213804],\n",
       "       [0.0713329 ],\n",
       "       [0.9146818 ],\n",
       "       [0.07307801],\n",
       "       [0.90760887],\n",
       "       [0.06415102],\n",
       "       [0.9086991 ],\n",
       "       [0.91288245],\n",
       "       [0.07972115],\n",
       "       [0.07210621],\n",
       "       [0.13831696],\n",
       "       [0.9026593 ],\n",
       "       [0.07884419],\n",
       "       [0.3332223 ],\n",
       "       [0.90376174],\n",
       "       [0.06494889],\n",
       "       [0.119102  ],\n",
       "       [0.911502  ],\n",
       "       [0.88629127],\n",
       "       [0.07192469],\n",
       "       [0.8996732 ],\n",
       "       [0.909485  ],\n",
       "       [0.907652  ],\n",
       "       [0.91652584],\n",
       "       [0.88253963],\n",
       "       [0.08751106],\n",
       "       [0.8966358 ],\n",
       "       [0.06411478],\n",
       "       [0.07696077],\n",
       "       [0.07758251],\n",
       "       [0.8529234 ],\n",
       "       [0.08288243],\n",
       "       [0.06378108],\n",
       "       [0.9193307 ],\n",
       "       [0.87586874],\n",
       "       [0.07980886],\n",
       "       [0.9325218 ],\n",
       "       [0.90825975],\n",
       "       [0.08307689],\n",
       "       [0.09801033],\n",
       "       [0.08073232],\n",
       "       [0.9127917 ],\n",
       "       [0.06369773],\n",
       "       [0.9218053 ],\n",
       "       [0.907694  ],\n",
       "       [0.0653688 ],\n",
       "       [0.84028685],\n",
       "       [0.10723594],\n",
       "       [0.9216424 ],\n",
       "       [0.06401968],\n",
       "       [0.06384027],\n",
       "       [0.06839773],\n",
       "       [0.06729573],\n",
       "       [0.06836465],\n",
       "       [0.9084604 ],\n",
       "       [0.70978856],\n",
       "       [0.07406777],\n",
       "       [0.0649313 ],\n",
       "       [0.909642  ],\n",
       "       [0.91256464],\n",
       "       [0.07800379],\n",
       "       [0.06483859],\n",
       "       [0.9281883 ],\n",
       "       [0.91519904],\n",
       "       [0.9191128 ],\n",
       "       [0.8969015 ],\n",
       "       [0.06659541],\n",
       "       [0.11517406],\n",
       "       [0.9196316 ],\n",
       "       [0.0929049 ],\n",
       "       [0.91426903],\n",
       "       [0.1032809 ],\n",
       "       [0.90819585],\n",
       "       [0.06534192],\n",
       "       [0.9118457 ],\n",
       "       [0.9101715 ],\n",
       "       [0.0656032 ],\n",
       "       [0.9235397 ],\n",
       "       [0.0924421 ],\n",
       "       [0.07017291],\n",
       "       [0.9248582 ],\n",
       "       [0.07552075],\n",
       "       [0.9079884 ],\n",
       "       [0.90946984],\n",
       "       [0.9304436 ],\n",
       "       [0.06372479],\n",
       "       [0.9051269 ],\n",
       "       [0.0676026 ],\n",
       "       [0.3148514 ],\n",
       "       [0.0692125 ],\n",
       "       [0.0660786 ],\n",
       "       [0.9200445 ],\n",
       "       [0.9032823 ],\n",
       "       [0.9148793 ],\n",
       "       [0.06630513],\n",
       "       [0.911207  ],\n",
       "       [0.08107889],\n",
       "       [0.90322423],\n",
       "       [0.12828714],\n",
       "       [0.0664601 ],\n",
       "       [0.10949731],\n",
       "       [0.90516186]], dtype=float32)"
      ]
     },
     "execution_count": 94,
     "metadata": {},
     "output_type": "execute_result"
    }
   ],
   "source": [
    "y_possible"
   ]
  },
  {
   "cell_type": "code",
   "execution_count": 95,
   "metadata": {},
   "outputs": [],
   "source": [
    "def setResult(y_possible,standard):\n",
    "    y_preds = list()\n",
    "    for each in y_possible:\n",
    "        if each >= standard:\n",
    "            y_preds.append(1)\n",
    "        else:\n",
    "            y_preds.append(0)\n",
    "    y_preds=np.array(y_preds)\n",
    "    return y_preds"
   ]
  },
  {
   "cell_type": "code",
   "execution_count": 96,
   "metadata": {},
   "outputs": [],
   "source": [
    "y_preds=setResult(y_possible,standard=0.5)"
   ]
  },
  {
   "cell_type": "code",
   "execution_count": 97,
   "metadata": {},
   "outputs": [
    {
     "data": {
      "text/plain": [
       "array([0, 0, 1, 0, 0, 1, 1, 0, 1, 0, 0, 0, 0, 1, 0, 1, 1, 1, 0, 1, 1, 0,\n",
       "       1, 1, 1, 0, 1, 1, 0, 1, 1, 0, 0, 1, 0, 0, 1, 1, 0, 1, 1, 0, 0, 1,\n",
       "       1, 0, 0, 0, 1, 1, 1, 0, 0, 0, 0, 1, 1, 0, 1, 0, 0, 0, 1, 1, 0, 0,\n",
       "       1, 0, 1, 0, 1, 0, 0, 1, 0, 0, 1, 1, 0, 1, 1, 1, 0, 0, 0, 0, 1, 0,\n",
       "       1, 1, 1, 0, 0, 0, 1, 0, 0, 1, 0, 0, 1, 1, 0, 1, 0, 0, 1, 1, 1, 0,\n",
       "       1, 0, 1, 1, 0, 0, 0, 0, 1, 1, 0, 1, 1, 0, 1, 1, 1, 1, 0, 1, 1, 0,\n",
       "       0, 1, 0, 1, 0, 1, 1, 1, 0, 1, 1, 1, 1, 1, 1, 1, 0, 0, 0, 0, 0, 1,\n",
       "       0, 1, 0, 1, 1, 0, 1, 1, 0, 0, 1, 1, 0, 0, 1, 1, 1, 1, 0, 1, 1, 0,\n",
       "       0, 0, 0, 1, 1, 1, 1, 1, 0, 0, 0, 1, 1, 0, 0, 0, 1, 1, 1, 0, 0, 0,\n",
       "       0, 0, 0, 0, 0, 1, 1, 1, 0, 0, 0, 0, 1, 1, 1, 0, 0, 0, 1, 0, 1, 0,\n",
       "       1, 1, 0, 1, 1, 0, 0, 1, 1, 1, 1, 0, 0, 1, 1, 0, 0, 1, 0, 1, 0, 0,\n",
       "       0, 0, 0, 0, 0, 1, 0, 1, 0, 1, 0, 1, 0, 1, 1, 0, 0, 0, 1, 0, 0, 1,\n",
       "       0, 0, 1, 1, 0, 1, 1, 1, 1, 1, 0, 1, 0, 0, 0, 1, 0, 0, 1, 1, 0, 1,\n",
       "       1, 0, 0, 0, 1, 0, 1, 1, 0, 1, 0, 1, 0, 0, 0, 0, 0, 1, 1, 0, 0, 1,\n",
       "       1, 0, 0, 1, 1, 1, 1, 0, 0, 1, 0, 1, 0, 1, 0, 1, 1, 0, 1, 0, 0, 1,\n",
       "       0, 1, 1, 1, 0, 1, 0, 0, 0, 0, 1, 1, 1, 0, 1, 0, 1, 0, 0, 0, 1])"
      ]
     },
     "execution_count": 97,
     "metadata": {},
     "output_type": "execute_result"
    }
   ],
   "source": [
    "y_preds"
   ]
  },
  {
   "cell_type": "markdown",
   "metadata": {},
   "source": [
    "# 7.Evaluation\n",
    "## 7.1. Learning Curve"
   ]
  },
  {
   "cell_type": "code",
   "execution_count": 98,
   "metadata": {},
   "outputs": [],
   "source": [
    "import matplotlib.pyplot as plt\n",
    "\n",
    "def plot_learningCurve(history,epochs,modelname):\n",
    "    epoch_range = range(1, epochs +1)\n",
    "    plt.figure()\n",
    "    plt.plot(epoch_range,history.history['accuracy'],color='b',label='accuracy')\n",
    "    plt.plot(epoch_range,history.history['val_accuracy'],color='r',label='validation accuracy')\n",
    "    plt.xlim([0.0,epochs+1.0])\n",
    "    plt.ylim([0.0,1.2])\n",
    "    plt.xlabel('Epochs')\n",
    "    plt.ylabel('Accuracy')\n",
    "    plt.title('History of {a} Model Accuracy'.format(a=modelname))\n",
    "    plt.legend(loc=\"lower right\")\n",
    "    plt.savefig(\"Pictures\\\\History of {a} Model Accuracy.png\".format(a=modelname))\n",
    "    plt.show()\n",
    "    \n",
    "    plt.figure()\n",
    "    plt.plot(epoch_range,history.history['loss'],color='b',label='loss')\n",
    "    plt.plot(epoch_range,history.history['val_loss'],color='r',label='validation loss')\n",
    "    plt.xlim([0.0,epochs+1.0])\n",
    "    plt.ylim([0.0,1.2])\n",
    "    plt.xlabel('Epochs')\n",
    "    plt.ylabel('Loss')\n",
    "    plt.title('History of {a} Model Loss'.format(a=modelname))\n",
    "    plt.legend(loc=\"upper left\")\n",
    "    plt.savefig(\"Pictures\\\\History of {a} Model Loss.png\".format(a=modelname))\n",
    "    plt.show()"
   ]
  },
  {
   "cell_type": "code",
   "execution_count": 99,
   "metadata": {},
   "outputs": [
    {
     "data": {
      "image/png": "[encoded data removed]",
      "text/plain": [
       "<Figure size 432x288 with 1 Axes>"
      ]
     },
     "metadata": {
      "needs_background": "light"
     },
     "output_type": "display_data"
    },
    {
     "data": {
      "image/png": "[encoded data removed]",
      "text/plain": [
       "<Figure size 432x288 with 1 Axes>"
      ]
     },
     "metadata": {
      "needs_background": "light"
     },
     "output_type": "display_data"
    }
   ],
   "source": [
    "plot_learningCurve(history,epochs,modelname)"
   ]
  },
  {
   "cell_type": "markdown",
   "metadata": {},
   "source": [
    "## 7.2. F1 Score and Other Measures "
   ]
  },
  {
   "cell_type": "code",
   "execution_count": 102,
   "metadata": {},
   "outputs": [],
   "source": [
    "from sklearn.metrics import confusion_matrix\n",
    "from sklearn.metrics import accuracy_score\n",
    "from sklearn.metrics import precision_score\n",
    "from sklearn.metrics import recall_score\n",
    "from sklearn.metrics import f1_score\n",
    "\n",
    "def getEvaluation(y_test,y_pred,X_test, model):\n",
    "    ev = dict()\n",
    "    ev[\"confusion_matrix\"]=confusion_matrix(y_test,y_pred)\n",
    "    ev[\"accuracy\"] = accuracy_score(y_test,y_pred)\n",
    "    ev[\"precision\"]=precision_score(y_test,y_pred,average=\"binary\")\n",
    "    ev[\"recall\"]=recall_score(y_test,y_pred,average=\"binary\")\n",
    "    ev[\"F1 score\"]=f1_score(y_test,y_pred,average=\"binary\")\n",
    "    \n",
    "    for key in ev.keys():\n",
    "        if key !=\"confusion_matrix\":\n",
    "            print(\"{a} is: {b}\".format(a=key, b=ev[key]))\n",
    "        else:\n",
    "            print(ev[key])\n",
    "    \n",
    "    # and also the basic evaluation from keras\n",
    "    model.compile(optimizer = 'adam', loss = 'binary_crossentropy', metrics = ['accuracy'])\n",
    "    eval_ = model.evaluate(X_test,y_test)\n",
    "    print(\"Loss: {0:.7}\".format(eval_[0]))\n",
    "    print(\"Accuracy: {0:.2%}\".format(eval_[1]))\n",
    "    \n",
    "    return ev"
   ]
  },
  {
   "cell_type": "code",
   "execution_count": 103,
   "metadata": {},
   "outputs": [
    {
     "name": "stdout",
     "output_type": "stream",
     "text": [
      "[[171  14]\n",
      " [  7 159]]\n",
      "accuracy is: 0.9401709401709402\n",
      "precision is: 0.9190751445086706\n",
      "recall is: 0.9578313253012049\n",
      "F1 score is: 0.9380530973451328\n",
      "11/11 [==============================] - 31s 3s/step - loss: 0.2057 - accuracy: 0.9402\n",
      "Loss: 0.2057349\n",
      "Accuracy: 94.02%\n"
     ]
    }
   ],
   "source": [
    "ev = getEvaluation(y_test,y_preds,X_test,model)"
   ]
  },
  {
   "cell_type": "code",
   "execution_count": null,
   "metadata": {},
   "outputs": [],
   "source": []
  },
  {
   "cell_type": "code",
   "execution_count": null,
   "metadata": {},
   "outputs": [],
   "source": []
  },
  {
   "cell_type": "code",
   "execution_count": null,
   "metadata": {},
   "outputs": [],
   "source": []
  }
 ],
 "metadata": {
  "kernelspec": {
   "display_name": "Python 3",
   "language": "python",
   "name": "python3"
  },
  "language_info": {
   "codemirror_mode": {
    "name": "ipython",
    "version": 3
   },
   "file_extension": ".py",
   "mimetype": "text/x-python",
   "name": "python",
   "nbconvert_exporter": "python",
   "pygments_lexer": "ipython3",
   "version": "3.8.3"
  }
 },
 "nbformat": 4,
 "nbformat_minor": 4
}
