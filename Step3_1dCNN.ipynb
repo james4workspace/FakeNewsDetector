{
 "cells": [
  {
   "cell_type": "markdown",
   "metadata": {},
   "source": [
    "# 1.Import Data"
   ]
  },
  {
   "cell_type": "code",
   "execution_count": 1,
   "metadata": {},
   "outputs": [],
   "source": [
    "import numpy as np\n",
    "import pickle\n",
    "import sklearn\n",
    "import tensorflow as tf\n",
    "from tqdm import tqdm"
   ]
  },
  {
   "cell_type": "code",
   "execution_count": 2,
   "metadata": {},
   "outputs": [],
   "source": [
    "# function for loading pickle file\n",
    "def loadPickle(file_name):\n",
    "    picklefile = open('.\\\\DataSet\\\\'+file_name+\".pkl\",mode=\"rb\")\n",
    "    data = pickle.load(picklefile)\n",
    "    picklefile.close()\n",
    "    return data"
   ]
  },
  {
   "cell_type": "code",
   "execution_count": 3,
   "metadata": {},
   "outputs": [],
   "source": [
    "y_train = loadPickle('y_train')\n",
    "y_test = loadPickle('y_test')\n",
    "X_train = loadPickle('X_train_vec')\n",
    "X_test = loadPickle('X_test_vec')"
   ]
  },
  {
   "cell_type": "markdown",
   "metadata": {},
   "source": [
    "# 2. Preprocessing for padding the matrix to same size\n",
    "## 2.1. Get Max Length of Rows in X"
   ]
  },
  {
   "cell_type": "code",
   "execution_count": 4,
   "metadata": {},
   "outputs": [],
   "source": [
    "# increase the length of each text in each row till it matches the max length of all the texts\n",
    "def getlenMax(input_data):\n",
    "    'function for estimating the max length of text in data'\n",
    "    max_no = 0\n",
    "    for text in input_data:\n",
    "        num_word = len(text)\n",
    "        if max_no <= num_word:\n",
    "            max_no = num_word\n",
    "\n",
    "    return max_no\n",
    "\n",
    "def compare(train,test):\n",
    "    'function for comparison between test and train'\n",
    "    no_train = getlenMax(train)\n",
    "    no_test = getlenMax(test)\n",
    "    if no_train > no_test:\n",
    "        return no_train\n",
    "    else:\n",
    "        return no_test"
   ]
  },
  {
   "cell_type": "code",
   "execution_count": 5,
   "metadata": {},
   "outputs": [
    {
     "name": "stdout",
     "output_type": "stream",
     "text": [
      "4327\n"
     ]
    }
   ],
   "source": [
    "max_len = compare(X_train,X_test)\n",
    "print(max_len) # get the max length of rows in X"
   ]
  },
  {
   "cell_type": "markdown",
   "metadata": {},
   "source": [
    "## 2.2. Padding the format\n",
    "#### because LSTM is time-series model, pre-padding make more sense"
   ]
  },
  {
   "cell_type": "code",
   "execution_count": 6,
   "metadata": {},
   "outputs": [],
   "source": [
    "def extendText(input_data, len_max,padding=\"pre\",dimension=300):\n",
    "    content=list()\n",
    "    if padding == \"post\":\n",
    "        for text in tqdm(input_data):\n",
    "            add_no = len_max - len(text)\n",
    "            x = np.zeros((add_no,dimension))\n",
    "            new_text = np.vstack((text,x))#padding is post\n",
    "            content.append(new_text)\n",
    "            \n",
    "    elif padding == \"pre\":\n",
    "        for text in tqdm(input_data):\n",
    "            add_no = len_max - len(text)\n",
    "            x = np.zeros((add_no,dimension))\n",
    "            new_text = np.vstack((x,text))#padding is pre\n",
    "            content.append(new_text)\n",
    "\n",
    "    content = np.array(content)\n",
    "    return content"
   ]
  },
  {
   "cell_type": "code",
   "execution_count": 7,
   "metadata": {},
   "outputs": [
    {
     "name": "stderr",
     "output_type": "stream",
     "text": [
      "100%|██████████████████████████████████████████████████████████████████████████████████| 2/2 [00:00<00:00, 2005.88it/s]"
     ]
    },
    {
     "name": "stdout",
     "output_type": "stream",
     "text": [
      "[[[1. 2. 3.]\n",
      "  [3. 4. 5.]\n",
      "  [0. 0. 0.]\n",
      "  ...\n",
      "  [0. 0. 0.]\n",
      "  [0. 0. 0.]\n",
      "  [0. 0. 0.]]\n",
      "\n",
      " [[1. 2. 3.]\n",
      "  [4. 5. 6.]\n",
      "  [0. 0. 0.]\n",
      "  ...\n",
      "  [0. 0. 0.]\n",
      "  [0. 0. 0.]\n",
      "  [0. 0. 0.]]]\n",
      "4327\n"
     ]
    },
    {
     "name": "stderr",
     "output_type": "stream",
     "text": [
      "\n"
     ]
    }
   ],
   "source": [
    "test = [[[1,2,3],[3,4,5]],[[1,2,3],[4,5,6]]]\n",
    "test = np.array(test)\n",
    "test = extendText(test,max_len,padding = 'post',dimension=3)\n",
    "print(test)\n",
    "print(len(test[0]))"
   ]
  },
  {
   "cell_type": "code",
   "execution_count": 8,
   "metadata": {},
   "outputs": [
    {
     "name": "stderr",
     "output_type": "stream",
     "text": [
      "100%|█████████████████████████████████████████████████████████████████████████████| 1404/1404 [00:05<00:00, 240.77it/s]\n",
      "100%|████████████████████████████████████████████████████████████████████████████████| 351/351 [00:15<00:00, 22.41it/s]\n"
     ]
    }
   ],
   "source": [
    "X_train = extendText(X_train,max_len,padding = 'post')\n",
    "X_test = extendText(X_test,max_len,padding = 'post')"
   ]
  },
  {
   "cell_type": "markdown",
   "metadata": {},
   "source": [
    "# 3. Build 1dCNN\n",
    "## 3.1. Initialize the Model and Add the Layers"
   ]
  },
  {
   "cell_type": "code",
   "execution_count": 17,
   "metadata": {},
   "outputs": [],
   "source": [
    "# import libraries\n",
    "import keras\n",
    "from tensorflow.keras.layers import Conv1D\n",
    "from tensorflow.keras.layers import MaxPooling1D\n",
    "from tensorflow.keras.layers import Dropout\n",
    "from tensorflow.keras.layers import Flatten\n",
    "from tensorflow.keras.layers import Dense"
   ]
  },
  {
   "cell_type": "code",
   "execution_count": 18,
   "metadata": {},
   "outputs": [
    {
     "name": "stdout",
     "output_type": "stream",
     "text": [
      "(4327, 300)\n"
     ]
    }
   ],
   "source": [
    "# firstly we need to make sure our input share the same format\n",
    "input_shape = X_train[0].shape\n",
    "print(input_shape) # this means 300 length vectors with 162 timesteps"
   ]
  },
  {
   "cell_type": "code",
   "execution_count": 21,
   "metadata": {},
   "outputs": [],
   "source": [
    "def modelBuild(input_shape):\n",
    "    # initialize CNN model\n",
    "    model = tf.keras.Sequential()\n",
    "    \n",
    "    # add 1st convolution layer. here particularly need input_shape\n",
    "    model.add(Conv1D(filters=150, kernel_size=2, activation=\"relu\",padding=\"same\", input_shape=input_shape))\n",
    "    \n",
    "    # add 2nd convolution layer with different kernal_size 3\n",
    "    model.add(Conv1D(filters=150, kernel_size=3, activation=\"relu\",padding=\"same\"))\n",
    "    \n",
    "    # add 3rd convolution layer with different kernal_size 4\n",
    "    model.add(Conv1D(filters=150, kernel_size=4, activation=\"relu\",padding=\"same\"))\n",
    "    # add 1st max pooling, because sentences share different length, so I only count max value from each feature map.\n",
    "    # therefore ,finally when I get to the ann input layer, I can have fixed dimensionality of input data.\n",
    "    model.add(MaxPooling1D(pool_size=max_len,padding=\"valid\"))\n",
    "    model.add(Dropout(0.2))\n",
    "    \n",
    "    # add flattern\n",
    "    model.add(Flatten())\n",
    "    \n",
    "    # from now on it's ANN analysis layer, we set enough neurons for full connection, add 1st hidden layer\n",
    "    # because sentences are built based on fluent thinking style, so I use rectifier as activation function to avoid gradual change\n",
    "    model.add(Dense(units=5, activation='relu'))\n",
    "    \n",
    "    # here I add 2nd hidden layer\n",
    "    model.add(Dense(units=5, activation='relu'))\n",
    "    \n",
    "    # add output layer, since the category of label is \"happy, sad, angry, others\", i use 4 neurons as output outcome\n",
    "    # it's because I also need the possibility for the prediction, so I set sigmoid as activation function\n",
    "    model.add(Dense(units=1, activation='sigmoid'))\n",
    "    \n",
    "    return model"
   ]
  },
  {
   "cell_type": "markdown",
   "metadata": {},
   "source": [
    "## 3.2. Compilation"
   ]
  },
  {
   "cell_type": "code",
   "execution_count": 22,
   "metadata": {},
   "outputs": [],
   "source": [
    "model = modelBuild(input_shape)"
   ]
  },
  {
   "cell_type": "code",
   "execution_count": 23,
   "metadata": {},
   "outputs": [],
   "source": [
    "# compilation\n",
    "# we use stochastic gradient descent as our optimizer, cross entropy as our loss function\n",
    "# it's because I use integer binary result [0,1] as label, so I use binary crossentropy as my loss function\n",
    "model.compile(optimizer = 'adam', loss = 'binary_crossentropy', metrics = ['accuracy'])"
   ]
  },
  {
   "cell_type": "code",
   "execution_count": 24,
   "metadata": {},
   "outputs": [
    {
     "name": "stdout",
     "output_type": "stream",
     "text": [
      "Model: \"sequential_2\"\n",
      "_________________________________________________________________\n",
      "Layer (type)                 Output Shape              Param #   \n",
      "=================================================================\n",
      "conv1d_3 (Conv1D)            (None, 4327, 150)         90150     \n",
      "_________________________________________________________________\n",
      "conv1d_4 (Conv1D)            (None, 4327, 150)         67650     \n",
      "_________________________________________________________________\n",
      "conv1d_5 (Conv1D)            (None, 4327, 150)         90150     \n",
      "_________________________________________________________________\n",
      "max_pooling1d (MaxPooling1D) (None, 1, 150)            0         \n",
      "_________________________________________________________________\n",
      "dropout (Dropout)            (None, 1, 150)            0         \n",
      "_________________________________________________________________\n",
      "flatten (Flatten)            (None, 150)               0         \n",
      "_________________________________________________________________\n",
      "dense (Dense)                (None, 5)                 755       \n",
      "_________________________________________________________________\n",
      "dense_1 (Dense)              (None, 5)                 30        \n",
      "_________________________________________________________________\n",
      "dense_2 (Dense)              (None, 1)                 6         \n",
      "=================================================================\n",
      "Total params: 248,741\n",
      "Trainable params: 248,741\n",
      "Non-trainable params: 0\n",
      "_________________________________________________________________\n"
     ]
    }
   ],
   "source": [
    "model.summary()"
   ]
  },
  {
   "cell_type": "markdown",
   "metadata": {},
   "source": [
    "## 3.3. Function for Storage of Model"
   ]
  },
  {
   "cell_type": "code",
   "execution_count": 25,
   "metadata": {},
   "outputs": [],
   "source": [
    "# global parameter\n",
    "modelname=\"1dCNN\""
   ]
  },
  {
   "cell_type": "code",
   "execution_count": 26,
   "metadata": {},
   "outputs": [],
   "source": [
    "def saveModel(model,modelname):\n",
    "    model_json=model.to_json()\n",
    "    # specialize model to json\n",
    "    name_path = \"DataSet\\\\{a}\".format(a=modelname)\n",
    "    with open(name_path+\".json\",\"w\") as json_file:\n",
    "        json_file.write(model_json)\n",
    "        \n",
    "    # sepcialize weights to HDF5\n",
    "    model.save_weights(name_path+\".h5\")\n",
    "    print(\"Save model to DataSet archive successfully\")"
   ]
  },
  {
   "cell_type": "markdown",
   "metadata": {},
   "source": [
    "# 4. Train Model"
   ]
  },
  {
   "cell_type": "code",
   "execution_count": 27,
   "metadata": {},
   "outputs": [],
   "source": [
    "epochs = 2\n",
    "batch = 50\n",
    "vali_split=0.1\n",
    "# though validation_data is not used in propagation, the model will be gradually familier with validation data. There can be information leak.\n",
    "# therefore, normally use validation_split for testing model to avoid overfitting"
   ]
  },
  {
   "cell_type": "code",
   "execution_count": 28,
   "metadata": {},
   "outputs": [
    {
     "name": "stdout",
     "output_type": "stream",
     "text": [
      "Epoch 1/2\n",
      "26/26 [==============================] - 32s 1s/step - loss: 0.5361 - accuracy: 0.7363 - val_loss: 0.3488 - val_accuracy: 1.0000\n",
      "Epoch 2/2\n",
      "26/26 [==============================] - 31s 1s/step - loss: 0.3455 - accuracy: 0.9897 - val_loss: 0.3368 - val_accuracy: 1.0000\n",
      "Save model to DataSet archive successfully\n"
     ]
    }
   ],
   "source": [
    "history = model.fit(x = X_train,y=y_train,validation_split=vali_split, epochs =epochs, batch_size=batch)\n",
    "saveModel(model,modelname)"
   ]
  },
  {
   "cell_type": "markdown",
   "metadata": {},
   "source": [
    "# 5. Load Model"
   ]
  },
  {
   "cell_type": "code",
   "execution_count": 29,
   "metadata": {},
   "outputs": [],
   "source": [
    "def loadModel(modelname):\n",
    "    # load json file\n",
    "    load_path = \".\\\\DataSet\\\\{a}\".format(a=modelname)\n",
    "    json_file = open(load_path+\".json\",'r')\n",
    "    model_json = json_file.read()\n",
    "    json_file.close()\n",
    "    model = keras.models.model_from_json(model_json)\n",
    "    # load weights and assign them to the model\n",
    "    model.load_weights(load_path+\".h5\")\n",
    "    print(\"loaded {a} model successfully\".format(a=modelname))\n",
    "    \n",
    "    return model"
   ]
  },
  {
   "cell_type": "code",
   "execution_count": 30,
   "metadata": {},
   "outputs": [
    {
     "name": "stdout",
     "output_type": "stream",
     "text": [
      "loaded 1dCNN model successfully\n"
     ]
    }
   ],
   "source": [
    "model = loadModel(modelname)"
   ]
  },
  {
   "cell_type": "markdown",
   "metadata": {},
   "source": [
    "# 6. Prediction"
   ]
  },
  {
   "cell_type": "code",
   "execution_count": 31,
   "metadata": {},
   "outputs": [],
   "source": [
    "y_possible = model.predict(X_test)"
   ]
  },
  {
   "cell_type": "code",
   "execution_count": 32,
   "metadata": {},
   "outputs": [
    {
     "data": {
      "text/plain": [
       "array([[1.1287034e-03],\n",
       "       [4.8477650e-03],\n",
       "       [5.1307034e-01],\n",
       "       [2.6535988e-04],\n",
       "       [5.3137541e-04],\n",
       "       [5.1307034e-01],\n",
       "       [5.1307034e-01],\n",
       "       [1.8053949e-03],\n",
       "       [5.1307034e-01],\n",
       "       [1.2528598e-03],\n",
       "       [3.1706691e-04],\n",
       "       [6.9814920e-04],\n",
       "       [1.0477304e-03],\n",
       "       [5.1307034e-01],\n",
       "       [2.6357174e-04],\n",
       "       [5.1307034e-01],\n",
       "       [5.1307034e-01],\n",
       "       [5.1307034e-01],\n",
       "       [3.5810471e-04],\n",
       "       [5.1307034e-01],\n",
       "       [5.1307034e-01],\n",
       "       [3.5080314e-04],\n",
       "       [5.1307034e-01],\n",
       "       [2.0778179e-04],\n",
       "       [5.1307034e-01],\n",
       "       [1.7642975e-04],\n",
       "       [5.1307034e-01],\n",
       "       [5.1307034e-01],\n",
       "       [1.4255047e-03],\n",
       "       [5.1307034e-01],\n",
       "       [7.6261103e-02],\n",
       "       [1.2271404e-03],\n",
       "       [3.7661195e-04],\n",
       "       [5.1307034e-01],\n",
       "       [4.7707558e-04],\n",
       "       [4.9573183e-04],\n",
       "       [7.8243017e-04],\n",
       "       [5.1307034e-01],\n",
       "       [1.4064908e-03],\n",
       "       [5.1307034e-01],\n",
       "       [5.1307034e-01],\n",
       "       [4.3195486e-04],\n",
       "       [5.6838989e-04],\n",
       "       [5.1307034e-01],\n",
       "       [5.1307034e-01],\n",
       "       [1.8295646e-04],\n",
       "       [7.2082877e-04],\n",
       "       [6.4119697e-04],\n",
       "       [5.1307034e-01],\n",
       "       [5.1307034e-01],\n",
       "       [5.1307034e-01],\n",
       "       [4.0224195e-04],\n",
       "       [2.0459294e-04],\n",
       "       [6.8515539e-04],\n",
       "       [2.4399161e-04],\n",
       "       [5.1307034e-01],\n",
       "       [5.1307034e-01],\n",
       "       [5.1307034e-01],\n",
       "       [5.1307034e-01],\n",
       "       [6.4980984e-04],\n",
       "       [5.8150291e-04],\n",
       "       [1.4356673e-03],\n",
       "       [5.1307034e-01],\n",
       "       [5.1307034e-01],\n",
       "       [8.9123845e-04],\n",
       "       [3.3468008e-04],\n",
       "       [5.1307034e-01],\n",
       "       [4.1330457e-03],\n",
       "       [5.1307034e-01],\n",
       "       [1.8417835e-04],\n",
       "       [5.1307034e-01],\n",
       "       [4.8312545e-04],\n",
       "       [1.7832518e-03],\n",
       "       [1.9413233e-04],\n",
       "       [5.7467818e-04],\n",
       "       [7.6243281e-04],\n",
       "       [5.1307034e-01],\n",
       "       [5.1307034e-01],\n",
       "       [1.6838312e-04],\n",
       "       [5.1307034e-01],\n",
       "       [5.1307034e-01],\n",
       "       [5.1307034e-01],\n",
       "       [1.0587275e-03],\n",
       "       [5.1307034e-01],\n",
       "       [4.7701597e-04],\n",
       "       [1.4698505e-04],\n",
       "       [1.0666847e-03],\n",
       "       [1.4247596e-03],\n",
       "       [5.1307034e-01],\n",
       "       [5.1307034e-01],\n",
       "       [7.4255466e-04],\n",
       "       [2.8008223e-04],\n",
       "       [7.7867508e-04],\n",
       "       [3.2901764e-04],\n",
       "       [5.1307034e-01],\n",
       "       [1.0980964e-03],\n",
       "       [2.3273230e-03],\n",
       "       [5.1307034e-01],\n",
       "       [1.6057491e-04],\n",
       "       [2.9712915e-04],\n",
       "       [5.1307034e-01],\n",
       "       [2.1290779e-04],\n",
       "       [2.8726459e-04],\n",
       "       [5.1307034e-01],\n",
       "       [9.3504786e-04],\n",
       "       [2.7003884e-04],\n",
       "       [5.1307034e-01],\n",
       "       [5.1307034e-01],\n",
       "       [5.1307034e-01],\n",
       "       [8.4424019e-04],\n",
       "       [5.1307034e-01],\n",
       "       [5.6919456e-04],\n",
       "       [5.1307034e-01],\n",
       "       [5.1307034e-01],\n",
       "       [6.0379505e-04],\n",
       "       [2.1335483e-04],\n",
       "       [4.6360493e-04],\n",
       "       [9.6246600e-04],\n",
       "       [5.1307034e-01],\n",
       "       [5.1307034e-01],\n",
       "       [1.2280259e-04],\n",
       "       [5.1307034e-01],\n",
       "       [5.1307034e-01],\n",
       "       [1.0731816e-03],\n",
       "       [5.1307034e-01],\n",
       "       [5.1307034e-01],\n",
       "       [5.1307034e-01],\n",
       "       [5.1307034e-01],\n",
       "       [3.9276481e-04],\n",
       "       [5.1307034e-01],\n",
       "       [4.3801975e-01],\n",
       "       [1.0610819e-03],\n",
       "       [5.3852797e-04],\n",
       "       [5.1307034e-01],\n",
       "       [8.6504221e-04],\n",
       "       [3.7100911e-03],\n",
       "       [5.7655573e-04],\n",
       "       [5.1307034e-01],\n",
       "       [5.1307034e-01],\n",
       "       [5.1307034e-01],\n",
       "       [3.3318996e-04],\n",
       "       [5.1307034e-01],\n",
       "       [5.1307034e-01],\n",
       "       [5.1307034e-01],\n",
       "       [5.1307034e-01],\n",
       "       [5.1307034e-01],\n",
       "       [5.1307034e-01],\n",
       "       [5.1307034e-01],\n",
       "       [7.1263313e-04],\n",
       "       [3.1396747e-04],\n",
       "       [4.8756599e-04],\n",
       "       [3.8811564e-04],\n",
       "       [5.2365661e-04],\n",
       "       [5.1307034e-01],\n",
       "       [4.5469403e-04],\n",
       "       [5.1307034e-01],\n",
       "       [2.3701787e-04],\n",
       "       [5.1307034e-01],\n",
       "       [5.1307034e-01],\n",
       "       [7.3829293e-04],\n",
       "       [5.1307034e-01],\n",
       "       [5.1307034e-01],\n",
       "       [1.2049973e-03],\n",
       "       [2.1767616e-03],\n",
       "       [5.6037307e-04],\n",
       "       [5.1307034e-01],\n",
       "       [1.8239617e-03],\n",
       "       [2.1040440e-04],\n",
       "       [5.1307034e-01],\n",
       "       [5.1307034e-01],\n",
       "       [5.1307034e-01],\n",
       "       [5.1307034e-01],\n",
       "       [2.0256639e-04],\n",
       "       [5.1307034e-01],\n",
       "       [5.1307034e-01],\n",
       "       [2.0980328e-01],\n",
       "       [3.5339594e-04],\n",
       "       [7.9873204e-04],\n",
       "       [4.9042702e-04],\n",
       "       [5.1307034e-01],\n",
       "       [5.1307034e-01],\n",
       "       [5.1307034e-01],\n",
       "       [5.1307034e-01],\n",
       "       [5.1307034e-01],\n",
       "       [5.1307034e-01],\n",
       "       [4.9895048e-04],\n",
       "       [2.9861629e-03],\n",
       "       [5.1307034e-01],\n",
       "       [5.1307034e-01],\n",
       "       [2.2476912e-04],\n",
       "       [2.7427077e-04],\n",
       "       [5.1307034e-01],\n",
       "       [5.1307034e-01],\n",
       "       [5.1307034e-01],\n",
       "       [5.1307034e-01],\n",
       "       [5.5393577e-04],\n",
       "       [4.0525198e-04],\n",
       "       [2.8726459e-04],\n",
       "       [3.4523010e-04],\n",
       "       [7.8746378e-03],\n",
       "       [5.1307034e-01],\n",
       "       [8.3300471e-04],\n",
       "       [2.5030971e-04],\n",
       "       [5.1307034e-01],\n",
       "       [5.1307034e-01],\n",
       "       [5.1307034e-01],\n",
       "       [3.0767918e-04],\n",
       "       [2.2822618e-04],\n",
       "       [1.3845861e-03],\n",
       "       [6.8432093e-04],\n",
       "       [5.1307034e-01],\n",
       "       [5.1307034e-01],\n",
       "       [5.1307034e-01],\n",
       "       [3.2037497e-04],\n",
       "       [6.8727136e-04],\n",
       "       [4.0122867e-04],\n",
       "       [5.1307034e-01],\n",
       "       [2.4273992e-04],\n",
       "       [5.1307034e-01],\n",
       "       [1.1073649e-03],\n",
       "       [5.1307034e-01],\n",
       "       [5.1307034e-01],\n",
       "       [2.3865700e-04],\n",
       "       [5.1307034e-01],\n",
       "       [5.1307034e-01],\n",
       "       [5.5387616e-04],\n",
       "       [1.0596812e-03],\n",
       "       [5.1307034e-01],\n",
       "       [5.1307034e-01],\n",
       "       [5.1307034e-01],\n",
       "       [5.1307034e-01],\n",
       "       [6.5821409e-04],\n",
       "       [2.4208426e-04],\n",
       "       [5.1307034e-01],\n",
       "       [5.1307034e-01],\n",
       "       [1.8498302e-04],\n",
       "       [5.1307034e-01],\n",
       "       [5.1307034e-01],\n",
       "       [6.1002374e-04],\n",
       "       [5.1307034e-01],\n",
       "       [6.2438846e-04],\n",
       "       [1.2730658e-03],\n",
       "       [1.6151667e-03],\n",
       "       [4.6777725e-04],\n",
       "       [8.0651045e-04],\n",
       "       [4.1431189e-04],\n",
       "       [1.2871027e-03],\n",
       "       [5.1307034e-01],\n",
       "       [6.2122941e-04],\n",
       "       [5.1307034e-01],\n",
       "       [3.5650074e-02],\n",
       "       [5.1307034e-01],\n",
       "       [5.2538514e-04],\n",
       "       [5.1307034e-01],\n",
       "       [8.0662966e-04],\n",
       "       [6.4101815e-04],\n",
       "       [5.1307034e-01],\n",
       "       [1.4941096e-03],\n",
       "       [4.1547418e-04],\n",
       "       [6.9528818e-04],\n",
       "       [5.1307034e-01],\n",
       "       [1.1233985e-03],\n",
       "       [2.9474497e-04],\n",
       "       [5.1307034e-01],\n",
       "       [2.6252866e-04],\n",
       "       [5.0270557e-04],\n",
       "       [5.1307034e-01],\n",
       "       [3.5160780e-04],\n",
       "       [3.3396482e-04],\n",
       "       [5.1307034e-01],\n",
       "       [5.1307034e-01],\n",
       "       [5.1307034e-01],\n",
       "       [1.3247132e-04],\n",
       "       [5.1307034e-01],\n",
       "       [6.1249733e-04],\n",
       "       [5.1307034e-01],\n",
       "       [6.8899989e-04],\n",
       "       [5.3006411e-04],\n",
       "       [6.0907006e-04],\n",
       "       [5.1307034e-01],\n",
       "       [6.8610907e-04],\n",
       "       [8.6563826e-04],\n",
       "       [5.1307034e-01],\n",
       "       [5.1307034e-01],\n",
       "       [8.2305074e-04],\n",
       "       [5.1307034e-01],\n",
       "       [5.1307034e-01],\n",
       "       [3.0687451e-04],\n",
       "       [5.4892898e-04],\n",
       "       [4.3341517e-04],\n",
       "       [5.1307034e-01],\n",
       "       [1.6793609e-04],\n",
       "       [5.1307034e-01],\n",
       "       [5.1307034e-01],\n",
       "       [8.2585216e-04],\n",
       "       [7.4538589e-04],\n",
       "       [2.7322769e-04],\n",
       "       [5.1307034e-01],\n",
       "       [4.4018030e-04],\n",
       "       [5.4499507e-04],\n",
       "       [1.7687678e-04],\n",
       "       [3.4368038e-04],\n",
       "       [1.5337467e-03],\n",
       "       [5.1307034e-01],\n",
       "       [2.5200909e-01],\n",
       "       [4.9895048e-04],\n",
       "       [3.2624602e-04],\n",
       "       [5.1307034e-01],\n",
       "       [6.0425997e-03],\n",
       "       [8.1127882e-04],\n",
       "       [1.7824769e-04],\n",
       "       [5.1307034e-01],\n",
       "       [5.1307034e-01],\n",
       "       [5.1307034e-01],\n",
       "       [5.1307034e-01],\n",
       "       [3.2722950e-04],\n",
       "       [7.8722835e-04],\n",
       "       [5.1307034e-01],\n",
       "       [2.1436810e-04],\n",
       "       [5.1307034e-01],\n",
       "       [4.5630336e-04],\n",
       "       [5.1307034e-01],\n",
       "       [2.7707219e-04],\n",
       "       [3.5217404e-04],\n",
       "       [5.1307034e-01],\n",
       "       [3.3697486e-04],\n",
       "       [5.1307034e-01],\n",
       "       [1.3932586e-04],\n",
       "       [1.6623735e-04],\n",
       "       [5.1307034e-01],\n",
       "       [1.3594329e-03],\n",
       "       [5.1307034e-01],\n",
       "       [5.1307034e-01],\n",
       "       [5.1307034e-01],\n",
       "       [5.5742264e-04],\n",
       "       [5.1307034e-01],\n",
       "       [1.0327399e-03],\n",
       "       [5.1307034e-01],\n",
       "       [4.0447712e-04],\n",
       "       [8.0850720e-04],\n",
       "       [5.1307034e-01],\n",
       "       [5.1307034e-01],\n",
       "       [5.1307034e-01],\n",
       "       [5.6108832e-04],\n",
       "       [5.1307034e-01],\n",
       "       [8.3386898e-04],\n",
       "       [5.1307034e-01],\n",
       "       [3.5586953e-04],\n",
       "       [4.5311451e-04],\n",
       "       [1.1756122e-03],\n",
       "       [5.1307034e-01]], dtype=float32)"
      ]
     },
     "execution_count": 32,
     "metadata": {},
     "output_type": "execute_result"
    }
   ],
   "source": [
    "y_possible"
   ]
  },
  {
   "cell_type": "code",
   "execution_count": 33,
   "metadata": {},
   "outputs": [],
   "source": [
    "def setResult(y_possible,standard):\n",
    "    y_preds = list()\n",
    "    for each in y_possible:\n",
    "        if each >= standard:\n",
    "            y_preds.append(1)\n",
    "        else:\n",
    "            y_preds.append(0)\n",
    "    y_preds=np.array(y_preds)\n",
    "    return y_preds"
   ]
  },
  {
   "cell_type": "code",
   "execution_count": 34,
   "metadata": {},
   "outputs": [],
   "source": [
    "y_preds=setResult(y_possible,standard=0.5)"
   ]
  },
  {
   "cell_type": "code",
   "execution_count": 35,
   "metadata": {},
   "outputs": [
    {
     "data": {
      "text/plain": [
       "array([0, 0, 1, 0, 0, 1, 1, 0, 1, 0, 0, 0, 0, 1, 0, 1, 1, 1, 0, 1, 1, 0,\n",
       "       1, 0, 1, 0, 1, 1, 0, 1, 0, 0, 0, 1, 0, 0, 0, 1, 0, 1, 1, 0, 0, 1,\n",
       "       1, 0, 0, 0, 1, 1, 1, 0, 0, 0, 0, 1, 1, 1, 1, 0, 0, 0, 1, 1, 0, 0,\n",
       "       1, 0, 1, 0, 1, 0, 0, 0, 0, 0, 1, 1, 0, 1, 1, 1, 0, 1, 0, 0, 0, 0,\n",
       "       1, 1, 0, 0, 0, 0, 1, 0, 0, 1, 0, 0, 1, 0, 0, 1, 0, 0, 1, 1, 1, 0,\n",
       "       1, 0, 1, 1, 0, 0, 0, 0, 1, 1, 0, 1, 1, 0, 1, 1, 1, 1, 0, 1, 0, 0,\n",
       "       0, 1, 0, 0, 0, 1, 1, 1, 0, 1, 1, 1, 1, 1, 1, 1, 0, 0, 0, 0, 0, 1,\n",
       "       0, 1, 0, 1, 1, 0, 1, 1, 0, 0, 0, 1, 0, 0, 1, 1, 1, 1, 0, 1, 1, 0,\n",
       "       0, 0, 0, 1, 1, 1, 1, 1, 1, 0, 0, 1, 1, 0, 0, 1, 1, 1, 1, 0, 0, 0,\n",
       "       0, 0, 1, 0, 0, 1, 1, 1, 0, 0, 0, 0, 1, 1, 1, 0, 0, 0, 1, 0, 1, 0,\n",
       "       1, 1, 0, 1, 1, 0, 0, 1, 1, 1, 1, 0, 0, 1, 1, 0, 1, 1, 0, 1, 0, 0,\n",
       "       0, 0, 0, 0, 0, 1, 0, 1, 0, 1, 0, 1, 0, 0, 1, 0, 0, 0, 1, 0, 0, 1,\n",
       "       0, 0, 1, 0, 0, 1, 1, 1, 0, 1, 0, 1, 0, 0, 0, 1, 0, 0, 1, 1, 0, 1,\n",
       "       1, 0, 0, 0, 1, 0, 1, 1, 0, 0, 0, 1, 0, 0, 0, 0, 0, 1, 0, 0, 0, 1,\n",
       "       0, 0, 0, 1, 1, 1, 1, 0, 0, 1, 0, 1, 0, 1, 0, 0, 1, 0, 1, 0, 0, 1,\n",
       "       0, 1, 1, 1, 0, 1, 0, 1, 0, 0, 1, 1, 1, 0, 1, 0, 1, 0, 0, 0, 1])"
      ]
     },
     "execution_count": 35,
     "metadata": {},
     "output_type": "execute_result"
    }
   ],
   "source": [
    "y_preds"
   ]
  },
  {
   "cell_type": "markdown",
   "metadata": {},
   "source": [
    "# 7.Evaluation\n",
    "## 7.1. Learning Curve"
   ]
  },
  {
   "cell_type": "code",
   "execution_count": 36,
   "metadata": {},
   "outputs": [],
   "source": [
    "import matplotlib.pyplot as plt\n",
    "\n",
    "def plot_learningCurve(history,epochs,modelname):\n",
    "    epoch_range = range(1, epochs +1)\n",
    "    plt.figure()\n",
    "    plt.plot(epoch_range,history.history['accuracy'],color='b',label='accuracy')\n",
    "    plt.plot(epoch_range,history.history['val_accuracy'],color='r',label='validation accuracy')\n",
    "    plt.xlim([0.0,epochs+1.0])\n",
    "    plt.ylim([0.0,1.2])\n",
    "    plt.xlabel('Epochs')\n",
    "    plt.ylabel('Accuracy')\n",
    "    plt.title('History of {a} Model Accuracy'.format(a=modelname))\n",
    "    plt.legend(loc=\"lower right\")\n",
    "    plt.savefig(\"Pictures\\\\History of {a} Model Accuracy.png\".format(a=modelname))\n",
    "    plt.show()\n",
    "    \n",
    "    plt.figure()\n",
    "    plt.plot(epoch_range,history.history['loss'],color='b',label='loss')\n",
    "    plt.plot(epoch_range,history.history['val_loss'],color='r',label='validation loss')\n",
    "    plt.xlim([0.0,epochs+1.0])\n",
    "    plt.ylim([0.0,1.2])\n",
    "    plt.xlabel('Epochs')\n",
    "    plt.ylabel('Loss')\n",
    "    plt.title('History of {a} Model Loss'.format(a=modelname))\n",
    "    plt.legend(loc=\"upper left\")\n",
    "    plt.savefig(\"Pictures\\\\History of {a} Model Loss.png\".format(a=modelname))\n",
    "    plt.show()"
   ]
  },
  {
   "cell_type": "code",
   "execution_count": 37,
   "metadata": {},
   "outputs": [
    {
     "data": {
      "image/png": "[encoded data removed]",
      "text/plain": [
       "<Figure size 432x288 with 1 Axes>"
      ]
     },
     "metadata": {
      "needs_background": "light"
     },
     "output_type": "display_data"
    },
    {
     "data": {
      "image/png": "[encoded data removed]",
      "text/plain": [
       "<Figure size 432x288 with 1 Axes>"
      ]
     },
     "metadata": {
      "needs_background": "light"
     },
     "output_type": "display_data"
    }
   ],
   "source": [
    "plot_learningCurve(history,epochs,modelname)"
   ]
  },
  {
   "cell_type": "markdown",
   "metadata": {},
   "source": [
    "## 7.2. F1 Score and Other Measures "
   ]
  },
  {
   "cell_type": "code",
   "execution_count": 38,
   "metadata": {},
   "outputs": [],
   "source": [
    "from sklearn.metrics import confusion_matrix\n",
    "from sklearn.metrics import accuracy_score\n",
    "from sklearn.metrics import precision_score\n",
    "from sklearn.metrics import recall_score\n",
    "from sklearn.metrics import f1_score\n",
    "\n",
    "def getEvaluation(y_test,y_pred,X_test, model):\n",
    "    ev = dict()\n",
    "    ev[\"confusion_matrix\"]=confusion_matrix(y_test,y_pred)\n",
    "    ev[\"accuracy\"] = accuracy_score(y_test,y_pred)\n",
    "    ev[\"precision\"]=precision_score(y_test,y_pred,average=\"binary\")\n",
    "    ev[\"recall\"]=recall_score(y_test,y_pred,average=\"binary\")\n",
    "    ev[\"F1 score\"]=f1_score(y_test,y_pred,average=\"binary\")\n",
    "    \n",
    "    for key in ev.keys():\n",
    "        if key !=\"confusion_matrix\":\n",
    "            print(\"{a} is: {b}\".format(a=key, b=ev[key]))\n",
    "        else:\n",
    "            print(ev[key])\n",
    "    \n",
    "    # and also the basic evaluation from keras\n",
    "    model.compile(optimizer = 'adam', loss = 'binary_crossentropy', metrics = ['accuracy'])\n",
    "    eval_ = model.evaluate(X_test,y_test)\n",
    "    print(\"Loss: {0:.7}\".format(eval_[0]))\n",
    "    print(\"Accuracy: {0:.2%}\".format(eval_[1]))\n",
    "    \n",
    "    return ev"
   ]
  },
  {
   "cell_type": "code",
   "execution_count": 39,
   "metadata": {},
   "outputs": [
    {
     "name": "stdout",
     "output_type": "stream",
     "text": [
      "[[185   0]\n",
      " [  3 163]]\n",
      "accuracy is: 0.9914529914529915\n",
      "precision is: 1.0\n",
      "recall is: 0.9819277108433735\n",
      "F1 score is: 0.9908814589665653\n",
      "11/11 [==============================] - 2s 217ms/step - loss: 0.3247 - accuracy: 0.9915\n",
      "Loss: 0.3246878\n",
      "Accuracy: 99.15%\n"
     ]
    }
   ],
   "source": [
    "ev = getEvaluation(y_test,y_preds,X_test,model)"
   ]
  },
  {
   "cell_type": "code",
   "execution_count": null,
   "metadata": {},
   "outputs": [],
   "source": []
  },
  {
   "cell_type": "code",
   "execution_count": null,
   "metadata": {},
   "outputs": [],
   "source": []
  },
  {
   "cell_type": "code",
   "execution_count": null,
   "metadata": {},
   "outputs": [],
   "source": []
  }
 ],
 "metadata": {
  "kernelspec": {
   "display_name": "Python 3",
   "language": "python",
   "name": "python3"
  },
  "language_info": {
   "codemirror_mode": {
    "name": "ipython",
    "version": 3
   },
   "file_extension": ".py",
   "mimetype": "text/x-python",
   "name": "python",
   "nbconvert_exporter": "python",
   "pygments_lexer": "ipython3",
   "version": "3.8.3"
  }
 },
 "nbformat": 4,
 "nbformat_minor": 4
}
