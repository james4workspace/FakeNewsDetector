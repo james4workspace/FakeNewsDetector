{
 "cells": [
  {
   "cell_type": "markdown",
   "metadata": {},
   "source": [
    "# 1. Import Data"
   ]
  },
  {
   "cell_type": "code",
   "execution_count": 1,
   "metadata": {},
   "outputs": [],
   "source": [
    "import pandas as pd\n",
    "import numpy as np\n",
    "from tqdm import tqdm\n",
    "import pickle\n",
    "import re"
   ]
  },
  {
   "cell_type": "code",
   "execution_count": 2,
   "metadata": {},
   "outputs": [],
   "source": [
    "train_path='.\\\\DataSet\\\\Train.csv'\n",
    "df_train = pd.read_csv(train_path,sep='|')\n",
    "\n",
    "test_path='.\\\\DataSet\\\\Test.csv'\n",
    "df_test = pd.read_csv(test_path,sep='|')"
   ]
  },
  {
   "cell_type": "code",
   "execution_count": 3,
   "metadata": {},
   "outputs": [
    {
     "data": {
      "text/html": [
       "<div>\n",
       "<style scoped>\n",
       "    .dataframe tbody tr th:only-of-type {\n",
       "        vertical-align: middle;\n",
       "    }\n",
       "\n",
       "    .dataframe tbody tr th {\n",
       "        vertical-align: top;\n",
       "    }\n",
       "\n",
       "    .dataframe thead th {\n",
       "        text-align: right;\n",
       "    }\n",
       "</style>\n",
       "<table border=\"1\" class=\"dataframe\">\n",
       "  <thead>\n",
       "    <tr style=\"text-align: right;\">\n",
       "      <th></th>\n",
       "      <th>subject_Government News</th>\n",
       "      <th>subject_Middle-east</th>\n",
       "      <th>subject_News</th>\n",
       "      <th>subject_US_News</th>\n",
       "      <th>subject_left-news</th>\n",
       "      <th>subject_politics</th>\n",
       "      <th>subject_politicsNews</th>\n",
       "      <th>subject_worldnews</th>\n",
       "      <th>year</th>\n",
       "      <th>month</th>\n",
       "      <th>day</th>\n",
       "      <th>weekday</th>\n",
       "      <th>aprilfool_close</th>\n",
       "      <th>aprilfool_no</th>\n",
       "      <th>aprilfool_not sure</th>\n",
       "      <th>aprilfool_yes</th>\n",
       "      <th>title</th>\n",
       "      <th>text</th>\n",
       "      <th>label</th>\n",
       "    </tr>\n",
       "  </thead>\n",
       "  <tbody>\n",
       "    <tr>\n",
       "      <th>0</th>\n",
       "      <td>0</td>\n",
       "      <td>0</td>\n",
       "      <td>0</td>\n",
       "      <td>0</td>\n",
       "      <td>0</td>\n",
       "      <td>1</td>\n",
       "      <td>0</td>\n",
       "      <td>0</td>\n",
       "      <td>2017</td>\n",
       "      <td>12</td>\n",
       "      <td>8</td>\n",
       "      <td>4</td>\n",
       "      <td>0</td>\n",
       "      <td>1</td>\n",
       "      <td>0</td>\n",
       "      <td>0</td>\n",
       "      <td>two dead in 'day of rage' over jerusalem , pal...</td>\n",
       "      <td>jerusalem / gaza ( reuters ) - at least two pe...</td>\n",
       "      <td>1</td>\n",
       "    </tr>\n",
       "    <tr>\n",
       "      <th>1</th>\n",
       "      <td>1</td>\n",
       "      <td>0</td>\n",
       "      <td>0</td>\n",
       "      <td>0</td>\n",
       "      <td>0</td>\n",
       "      <td>0</td>\n",
       "      <td>0</td>\n",
       "      <td>0</td>\n",
       "      <td>2017</td>\n",
       "      <td>10</td>\n",
       "      <td>21</td>\n",
       "      <td>5</td>\n",
       "      <td>0</td>\n",
       "      <td>1</td>\n",
       "      <td>0</td>\n",
       "      <td>0</td>\n",
       "      <td>billionaire 's ano party holding big lead in c...</td>\n",
       "      <td>prague ( reuters ) - czech billionaire busines...</td>\n",
       "      <td>1</td>\n",
       "    </tr>\n",
       "    <tr>\n",
       "      <th>2</th>\n",
       "      <td>0</td>\n",
       "      <td>0</td>\n",
       "      <td>0</td>\n",
       "      <td>0</td>\n",
       "      <td>0</td>\n",
       "      <td>1</td>\n",
       "      <td>0</td>\n",
       "      <td>0</td>\n",
       "      <td>2017</td>\n",
       "      <td>12</td>\n",
       "      <td>4</td>\n",
       "      <td>0</td>\n",
       "      <td>0</td>\n",
       "      <td>1</td>\n",
       "      <td>0</td>\n",
       "      <td>0</td>\n",
       "      <td>the battle against islamic state</td>\n",
       "      <td>( reuters ) - it was an awkward coalition rive...</td>\n",
       "      <td>1</td>\n",
       "    </tr>\n",
       "    <tr>\n",
       "      <th>3</th>\n",
       "      <td>0</td>\n",
       "      <td>0</td>\n",
       "      <td>0</td>\n",
       "      <td>0</td>\n",
       "      <td>0</td>\n",
       "      <td>1</td>\n",
       "      <td>0</td>\n",
       "      <td>0</td>\n",
       "      <td>2017</td>\n",
       "      <td>11</td>\n",
       "      <td>24</td>\n",
       "      <td>4</td>\n",
       "      <td>0</td>\n",
       "      <td>1</td>\n",
       "      <td>0</td>\n",
       "      <td>0</td>\n",
       "      <td>whoa ! former democrat congresswoman reveals h...</td>\n",
       "      <td>dr . cynthia mckinney reveals hillary s murder...</td>\n",
       "      <td>0</td>\n",
       "    </tr>\n",
       "    <tr>\n",
       "      <th>4</th>\n",
       "      <td>0</td>\n",
       "      <td>0</td>\n",
       "      <td>0</td>\n",
       "      <td>0</td>\n",
       "      <td>0</td>\n",
       "      <td>0</td>\n",
       "      <td>1</td>\n",
       "      <td>0</td>\n",
       "      <td>2017</td>\n",
       "      <td>5</td>\n",
       "      <td>31</td>\n",
       "      <td>2</td>\n",
       "      <td>0</td>\n",
       "      <td>1</td>\n",
       "      <td>0</td>\n",
       "      <td>0</td>\n",
       "      <td>trump expected to delay u . s . embassy move t...</td>\n",
       "      <td>washington ( reuters ) - president donald trum...</td>\n",
       "      <td>1</td>\n",
       "    </tr>\n",
       "    <tr>\n",
       "      <th>...</th>\n",
       "      <td>...</td>\n",
       "      <td>...</td>\n",
       "      <td>...</td>\n",
       "      <td>...</td>\n",
       "      <td>...</td>\n",
       "      <td>...</td>\n",
       "      <td>...</td>\n",
       "      <td>...</td>\n",
       "      <td>...</td>\n",
       "      <td>...</td>\n",
       "      <td>...</td>\n",
       "      <td>...</td>\n",
       "      <td>...</td>\n",
       "      <td>...</td>\n",
       "      <td>...</td>\n",
       "      <td>...</td>\n",
       "      <td>...</td>\n",
       "      <td>...</td>\n",
       "      <td>...</td>\n",
       "    </tr>\n",
       "    <tr>\n",
       "      <th>17542</th>\n",
       "      <td>1</td>\n",
       "      <td>0</td>\n",
       "      <td>0</td>\n",
       "      <td>0</td>\n",
       "      <td>0</td>\n",
       "      <td>0</td>\n",
       "      <td>0</td>\n",
       "      <td>0</td>\n",
       "      <td>2017</td>\n",
       "      <td>10</td>\n",
       "      <td>22</td>\n",
       "      <td>6</td>\n",
       "      <td>0</td>\n",
       "      <td>1</td>\n",
       "      <td>0</td>\n",
       "      <td>0</td>\n",
       "      <td>japan 's abe says won 't delay tax hike unless...</td>\n",
       "      <td>tokyo ( reuters ) - japanese prime minister sh...</td>\n",
       "      <td>1</td>\n",
       "    </tr>\n",
       "    <tr>\n",
       "      <th>17543</th>\n",
       "      <td>0</td>\n",
       "      <td>0</td>\n",
       "      <td>0</td>\n",
       "      <td>0</td>\n",
       "      <td>1</td>\n",
       "      <td>0</td>\n",
       "      <td>0</td>\n",
       "      <td>0</td>\n",
       "      <td>2017</td>\n",
       "      <td>9</td>\n",
       "      <td>22</td>\n",
       "      <td>4</td>\n",
       "      <td>0</td>\n",
       "      <td>1</td>\n",
       "      <td>0</td>\n",
       "      <td>0</td>\n",
       "      <td>trump kicks pro - amnesty , globalist koch bro...</td>\n",
       "      <td>president - elect donald trump told a critical...</td>\n",
       "      <td>0</td>\n",
       "    </tr>\n",
       "    <tr>\n",
       "      <th>17544</th>\n",
       "      <td>0</td>\n",
       "      <td>0</td>\n",
       "      <td>0</td>\n",
       "      <td>0</td>\n",
       "      <td>0</td>\n",
       "      <td>1</td>\n",
       "      <td>0</td>\n",
       "      <td>0</td>\n",
       "      <td>2017</td>\n",
       "      <td>12</td>\n",
       "      <td>12</td>\n",
       "      <td>1</td>\n",
       "      <td>0</td>\n",
       "      <td>1</td>\n",
       "      <td>0</td>\n",
       "      <td>0</td>\n",
       "      <td>south korea 's moon , china 's xi to talk nort...</td>\n",
       "      <td>seoul / beijing ( reuters ) - curbing north ko...</td>\n",
       "      <td>1</td>\n",
       "    </tr>\n",
       "    <tr>\n",
       "      <th>17545</th>\n",
       "      <td>0</td>\n",
       "      <td>0</td>\n",
       "      <td>0</td>\n",
       "      <td>0</td>\n",
       "      <td>0</td>\n",
       "      <td>0</td>\n",
       "      <td>0</td>\n",
       "      <td>1</td>\n",
       "      <td>2017</td>\n",
       "      <td>12</td>\n",
       "      <td>5</td>\n",
       "      <td>1</td>\n",
       "      <td>0</td>\n",
       "      <td>1</td>\n",
       "      <td>0</td>\n",
       "      <td>0</td>\n",
       "      <td>watch liberal cnn lawyer skewer “ village idio...</td>\n",
       "      <td>NaN</td>\n",
       "      <td>0</td>\n",
       "    </tr>\n",
       "    <tr>\n",
       "      <th>17546</th>\n",
       "      <td>0</td>\n",
       "      <td>0</td>\n",
       "      <td>0</td>\n",
       "      <td>0</td>\n",
       "      <td>0</td>\n",
       "      <td>0</td>\n",
       "      <td>0</td>\n",
       "      <td>1</td>\n",
       "      <td>2017</td>\n",
       "      <td>8</td>\n",
       "      <td>31</td>\n",
       "      <td>3</td>\n",
       "      <td>0</td>\n",
       "      <td>1</td>\n",
       "      <td>0</td>\n",
       "      <td>0</td>\n",
       "      <td>france unveils labor reforms in first step to ...</td>\n",
       "      <td>paris ( reuters ) - french president emmanuel ...</td>\n",
       "      <td>1</td>\n",
       "    </tr>\n",
       "  </tbody>\n",
       "</table>\n",
       "<p>17547 rows × 19 columns</p>\n",
       "</div>"
      ],
      "text/plain": [
       "       subject_Government News  subject_Middle-east  subject_News  \\\n",
       "0                            0                    0             0   \n",
       "1                            1                    0             0   \n",
       "2                            0                    0             0   \n",
       "3                            0                    0             0   \n",
       "4                            0                    0             0   \n",
       "...                        ...                  ...           ...   \n",
       "17542                        1                    0             0   \n",
       "17543                        0                    0             0   \n",
       "17544                        0                    0             0   \n",
       "17545                        0                    0             0   \n",
       "17546                        0                    0             0   \n",
       "\n",
       "       subject_US_News  subject_left-news  subject_politics  \\\n",
       "0                    0                  0                 1   \n",
       "1                    0                  0                 0   \n",
       "2                    0                  0                 1   \n",
       "3                    0                  0                 1   \n",
       "4                    0                  0                 0   \n",
       "...                ...                ...               ...   \n",
       "17542                0                  0                 0   \n",
       "17543                0                  1                 0   \n",
       "17544                0                  0                 1   \n",
       "17545                0                  0                 0   \n",
       "17546                0                  0                 0   \n",
       "\n",
       "       subject_politicsNews  subject_worldnews  year  month  day  weekday  \\\n",
       "0                         0                  0  2017     12    8        4   \n",
       "1                         0                  0  2017     10   21        5   \n",
       "2                         0                  0  2017     12    4        0   \n",
       "3                         0                  0  2017     11   24        4   \n",
       "4                         1                  0  2017      5   31        2   \n",
       "...                     ...                ...   ...    ...  ...      ...   \n",
       "17542                     0                  0  2017     10   22        6   \n",
       "17543                     0                  0  2017      9   22        4   \n",
       "17544                     0                  0  2017     12   12        1   \n",
       "17545                     0                  1  2017     12    5        1   \n",
       "17546                     0                  1  2017      8   31        3   \n",
       "\n",
       "       aprilfool_close  aprilfool_no  aprilfool_not sure  aprilfool_yes  \\\n",
       "0                    0             1                   0              0   \n",
       "1                    0             1                   0              0   \n",
       "2                    0             1                   0              0   \n",
       "3                    0             1                   0              0   \n",
       "4                    0             1                   0              0   \n",
       "...                ...           ...                 ...            ...   \n",
       "17542                0             1                   0              0   \n",
       "17543                0             1                   0              0   \n",
       "17544                0             1                   0              0   \n",
       "17545                0             1                   0              0   \n",
       "17546                0             1                   0              0   \n",
       "\n",
       "                                                   title  \\\n",
       "0      two dead in 'day of rage' over jerusalem , pal...   \n",
       "1      billionaire 's ano party holding big lead in c...   \n",
       "2                       the battle against islamic state   \n",
       "3      whoa ! former democrat congresswoman reveals h...   \n",
       "4      trump expected to delay u . s . embassy move t...   \n",
       "...                                                  ...   \n",
       "17542  japan 's abe says won 't delay tax hike unless...   \n",
       "17543  trump kicks pro - amnesty , globalist koch bro...   \n",
       "17544  south korea 's moon , china 's xi to talk nort...   \n",
       "17545  watch liberal cnn lawyer skewer “ village idio...   \n",
       "17546  france unveils labor reforms in first step to ...   \n",
       "\n",
       "                                                    text  label  \n",
       "0      jerusalem / gaza ( reuters ) - at least two pe...      1  \n",
       "1      prague ( reuters ) - czech billionaire busines...      1  \n",
       "2      ( reuters ) - it was an awkward coalition rive...      1  \n",
       "3      dr . cynthia mckinney reveals hillary s murder...      0  \n",
       "4      washington ( reuters ) - president donald trum...      1  \n",
       "...                                                  ...    ...  \n",
       "17542  tokyo ( reuters ) - japanese prime minister sh...      1  \n",
       "17543  president - elect donald trump told a critical...      0  \n",
       "17544  seoul / beijing ( reuters ) - curbing north ko...      1  \n",
       "17545                                                NaN      0  \n",
       "17546  paris ( reuters ) - french president emmanuel ...      1  \n",
       "\n",
       "[17547 rows x 19 columns]"
      ]
     },
     "execution_count": 3,
     "metadata": {},
     "output_type": "execute_result"
    }
   ],
   "source": [
    "df_test"
   ]
  },
  {
   "cell_type": "markdown",
   "metadata": {},
   "source": [
    "## 1.1.Data Sample"
   ]
  },
  {
   "cell_type": "code",
   "execution_count": 4,
   "metadata": {},
   "outputs": [],
   "source": [
    "# sampling if needed for shorten the test process\n",
    "df_train = df_train.sample(frac=0.02, replace=True, random_state=1)\n",
    "df_test = df_test.sample(frac=0.02, replace=True, random_state=1)"
   ]
  },
  {
   "cell_type": "code",
   "execution_count": 5,
   "metadata": {},
   "outputs": [],
   "source": [
    "# add a mark between title and text for separating title and text when doing deep learning model\n",
    "df_train['mark for title'] = 'end of title'\n",
    "df_test['mark for title'] ='end of title'"
   ]
  },
  {
   "cell_type": "code",
   "execution_count": 6,
   "metadata": {},
   "outputs": [],
   "source": [
    "# reassign position of a column\n",
    "def reassignPos(df,ab_pos, bis_pos):\n",
    "    cols = df.columns.tolist()\n",
    "    col_change = cols.pop(ab_pos)\n",
    "    cols.insert(bis_pos,col_change)\n",
    "    df = df[cols]\n",
    "    return df"
   ]
  },
  {
   "cell_type": "code",
   "execution_count": 7,
   "metadata": {},
   "outputs": [],
   "source": [
    "df_train = reassignPos(df_train,19,17)\n",
    "df_test = reassignPos(df_test,19,17)"
   ]
  },
  {
   "cell_type": "code",
   "execution_count": 8,
   "metadata": {},
   "outputs": [
    {
     "name": "stdout",
     "output_type": "stream",
     "text": [
      "1404\n",
      "351\n"
     ]
    }
   ],
   "source": [
    "print(len(df_train))\n",
    "print(len(df_test))"
   ]
  },
  {
   "cell_type": "code",
   "execution_count": 9,
   "metadata": {},
   "outputs": [
    {
     "data": {
      "text/html": [
       "<div>\n",
       "<style scoped>\n",
       "    .dataframe tbody tr th:only-of-type {\n",
       "        vertical-align: middle;\n",
       "    }\n",
       "\n",
       "    .dataframe tbody tr th {\n",
       "        vertical-align: top;\n",
       "    }\n",
       "\n",
       "    .dataframe thead th {\n",
       "        text-align: right;\n",
       "    }\n",
       "</style>\n",
       "<table border=\"1\" class=\"dataframe\">\n",
       "  <thead>\n",
       "    <tr style=\"text-align: right;\">\n",
       "      <th></th>\n",
       "      <th>subject_Government News</th>\n",
       "      <th>subject_Middle-east</th>\n",
       "      <th>subject_News</th>\n",
       "      <th>subject_US_News</th>\n",
       "      <th>subject_left-news</th>\n",
       "      <th>subject_politics</th>\n",
       "      <th>subject_politicsNews</th>\n",
       "      <th>subject_worldnews</th>\n",
       "      <th>year</th>\n",
       "      <th>month</th>\n",
       "      <th>day</th>\n",
       "      <th>weekday</th>\n",
       "      <th>aprilfool_close</th>\n",
       "      <th>aprilfool_no</th>\n",
       "      <th>aprilfool_not sure</th>\n",
       "      <th>aprilfool_yes</th>\n",
       "      <th>title</th>\n",
       "      <th>mark for title</th>\n",
       "      <th>text</th>\n",
       "      <th>label</th>\n",
       "    </tr>\n",
       "  </thead>\n",
       "  <tbody>\n",
       "    <tr>\n",
       "      <th>5192</th>\n",
       "      <td>0</td>\n",
       "      <td>0</td>\n",
       "      <td>0</td>\n",
       "      <td>0</td>\n",
       "      <td>0</td>\n",
       "      <td>0</td>\n",
       "      <td>1</td>\n",
       "      <td>0</td>\n",
       "      <td>2017</td>\n",
       "      <td>9</td>\n",
       "      <td>1</td>\n",
       "      <td>4</td>\n",
       "      <td>0</td>\n",
       "      <td>1</td>\n",
       "      <td>0</td>\n",
       "      <td>0</td>\n",
       "      <td>bombshell : senate intel committee hearing rev...</td>\n",
       "      <td>end of title</td>\n",
       "      <td>while the house intelligence committee s inves...</td>\n",
       "      <td>0</td>\n",
       "    </tr>\n",
       "    <tr>\n",
       "      <th>50057</th>\n",
       "      <td>0</td>\n",
       "      <td>0</td>\n",
       "      <td>0</td>\n",
       "      <td>0</td>\n",
       "      <td>0</td>\n",
       "      <td>0</td>\n",
       "      <td>1</td>\n",
       "      <td>0</td>\n",
       "      <td>2017</td>\n",
       "      <td>10</td>\n",
       "      <td>16</td>\n",
       "      <td>0</td>\n",
       "      <td>0</td>\n",
       "      <td>1</td>\n",
       "      <td>0</td>\n",
       "      <td>0</td>\n",
       "      <td>paul ryan claims gop wouldn ’ t try to have de...</td>\n",
       "      <td>end of title</td>\n",
       "      <td>sometimes you get the feeling that paul ryan h...</td>\n",
       "      <td>0</td>\n",
       "    </tr>\n",
       "    <tr>\n",
       "      <th>21440</th>\n",
       "      <td>0</td>\n",
       "      <td>0</td>\n",
       "      <td>1</td>\n",
       "      <td>0</td>\n",
       "      <td>0</td>\n",
       "      <td>0</td>\n",
       "      <td>0</td>\n",
       "      <td>0</td>\n",
       "      <td>2016</td>\n",
       "      <td>9</td>\n",
       "      <td>23</td>\n",
       "      <td>4</td>\n",
       "      <td>0</td>\n",
       "      <td>1</td>\n",
       "      <td>0</td>\n",
       "      <td>0</td>\n",
       "      <td>long lost footage of bernie being arrested at ...</td>\n",
       "      <td>end of title</td>\n",
       "      <td>a team of documentary filmmakers made what may...</td>\n",
       "      <td>0</td>\n",
       "    </tr>\n",
       "    <tr>\n",
       "      <th>20609</th>\n",
       "      <td>0</td>\n",
       "      <td>0</td>\n",
       "      <td>1</td>\n",
       "      <td>0</td>\n",
       "      <td>0</td>\n",
       "      <td>0</td>\n",
       "      <td>0</td>\n",
       "      <td>0</td>\n",
       "      <td>2017</td>\n",
       "      <td>1</td>\n",
       "      <td>18</td>\n",
       "      <td>2</td>\n",
       "      <td>0</td>\n",
       "      <td>1</td>\n",
       "      <td>0</td>\n",
       "      <td>0</td>\n",
       "      <td>former israeli prime minister blasts israeli g...</td>\n",
       "      <td>end of title</td>\n",
       "      <td>it appears that the curtain that hides the tru...</td>\n",
       "      <td>0</td>\n",
       "    </tr>\n",
       "    <tr>\n",
       "      <th>49100</th>\n",
       "      <td>0</td>\n",
       "      <td>0</td>\n",
       "      <td>0</td>\n",
       "      <td>0</td>\n",
       "      <td>0</td>\n",
       "      <td>1</td>\n",
       "      <td>0</td>\n",
       "      <td>0</td>\n",
       "      <td>2016</td>\n",
       "      <td>4</td>\n",
       "      <td>14</td>\n",
       "      <td>3</td>\n",
       "      <td>0</td>\n",
       "      <td>1</td>\n",
       "      <td>0</td>\n",
       "      <td>0</td>\n",
       "      <td>house speaker ryan backs continued aid to egypt</td>\n",
       "      <td>end of title</td>\n",
       "      <td>washington ( reuters ) - u . s . house of repr...</td>\n",
       "      <td>1</td>\n",
       "    </tr>\n",
       "    <tr>\n",
       "      <th>...</th>\n",
       "      <td>...</td>\n",
       "      <td>...</td>\n",
       "      <td>...</td>\n",
       "      <td>...</td>\n",
       "      <td>...</td>\n",
       "      <td>...</td>\n",
       "      <td>...</td>\n",
       "      <td>...</td>\n",
       "      <td>...</td>\n",
       "      <td>...</td>\n",
       "      <td>...</td>\n",
       "      <td>...</td>\n",
       "      <td>...</td>\n",
       "      <td>...</td>\n",
       "      <td>...</td>\n",
       "      <td>...</td>\n",
       "      <td>...</td>\n",
       "      <td>...</td>\n",
       "      <td>...</td>\n",
       "      <td>...</td>\n",
       "    </tr>\n",
       "    <tr>\n",
       "      <th>63104</th>\n",
       "      <td>0</td>\n",
       "      <td>0</td>\n",
       "      <td>0</td>\n",
       "      <td>0</td>\n",
       "      <td>0</td>\n",
       "      <td>0</td>\n",
       "      <td>0</td>\n",
       "      <td>1</td>\n",
       "      <td>2017</td>\n",
       "      <td>12</td>\n",
       "      <td>13</td>\n",
       "      <td>2</td>\n",
       "      <td>0</td>\n",
       "      <td>1</td>\n",
       "      <td>0</td>\n",
       "      <td>0</td>\n",
       "      <td>pakistani court summons police in case of miss...</td>\n",
       "      <td>end of title</td>\n",
       "      <td>lahore , pakistan ( reuters ) - a pakistani co...</td>\n",
       "      <td>1</td>\n",
       "    </tr>\n",
       "    <tr>\n",
       "      <th>2446</th>\n",
       "      <td>0</td>\n",
       "      <td>0</td>\n",
       "      <td>0</td>\n",
       "      <td>0</td>\n",
       "      <td>0</td>\n",
       "      <td>0</td>\n",
       "      <td>1</td>\n",
       "      <td>0</td>\n",
       "      <td>2017</td>\n",
       "      <td>11</td>\n",
       "      <td>9</td>\n",
       "      <td>3</td>\n",
       "      <td>0</td>\n",
       "      <td>1</td>\n",
       "      <td>0</td>\n",
       "      <td>0</td>\n",
       "      <td>trump gets humiliated by his own joint chiefs ...</td>\n",
       "      <td>end of title</td>\n",
       "      <td>it appears donald trump jumped the gun when he...</td>\n",
       "      <td>0</td>\n",
       "    </tr>\n",
       "    <tr>\n",
       "      <th>48846</th>\n",
       "      <td>1</td>\n",
       "      <td>0</td>\n",
       "      <td>0</td>\n",
       "      <td>0</td>\n",
       "      <td>0</td>\n",
       "      <td>0</td>\n",
       "      <td>0</td>\n",
       "      <td>0</td>\n",
       "      <td>2017</td>\n",
       "      <td>10</td>\n",
       "      <td>27</td>\n",
       "      <td>4</td>\n",
       "      <td>0</td>\n",
       "      <td>1</td>\n",
       "      <td>0</td>\n",
       "      <td>0</td>\n",
       "      <td>italian man sentenced to 24 years for infectin...</td>\n",
       "      <td>end of title</td>\n",
       "      <td>rome ( reuters ) - an italian man was sentence...</td>\n",
       "      <td>1</td>\n",
       "    </tr>\n",
       "    <tr>\n",
       "      <th>7393</th>\n",
       "      <td>0</td>\n",
       "      <td>0</td>\n",
       "      <td>1</td>\n",
       "      <td>0</td>\n",
       "      <td>0</td>\n",
       "      <td>0</td>\n",
       "      <td>0</td>\n",
       "      <td>0</td>\n",
       "      <td>2017</td>\n",
       "      <td>6</td>\n",
       "      <td>4</td>\n",
       "      <td>6</td>\n",
       "      <td>0</td>\n",
       "      <td>1</td>\n",
       "      <td>0</td>\n",
       "      <td>0</td>\n",
       "      <td>trump responds to uk attack with apparent crit...</td>\n",
       "      <td>end of title</td>\n",
       "      <td>london ( reuters ) - u . s . president donald ...</td>\n",
       "      <td>1</td>\n",
       "    </tr>\n",
       "    <tr>\n",
       "      <th>27886</th>\n",
       "      <td>1</td>\n",
       "      <td>0</td>\n",
       "      <td>0</td>\n",
       "      <td>0</td>\n",
       "      <td>0</td>\n",
       "      <td>0</td>\n",
       "      <td>0</td>\n",
       "      <td>0</td>\n",
       "      <td>2017</td>\n",
       "      <td>10</td>\n",
       "      <td>16</td>\n",
       "      <td>0</td>\n",
       "      <td>0</td>\n",
       "      <td>1</td>\n",
       "      <td>0</td>\n",
       "      <td>0</td>\n",
       "      <td>u . s . military , in iraq , urges iraqis , ku...</td>\n",
       "      <td>end of title</td>\n",
       "      <td>washington ( reuters ) - the u . s . military ...</td>\n",
       "      <td>1</td>\n",
       "    </tr>\n",
       "  </tbody>\n",
       "</table>\n",
       "<p>1404 rows × 20 columns</p>\n",
       "</div>"
      ],
      "text/plain": [
       "       subject_Government News  subject_Middle-east  subject_News  \\\n",
       "5192                         0                    0             0   \n",
       "50057                        0                    0             0   \n",
       "21440                        0                    0             1   \n",
       "20609                        0                    0             1   \n",
       "49100                        0                    0             0   \n",
       "...                        ...                  ...           ...   \n",
       "63104                        0                    0             0   \n",
       "2446                         0                    0             0   \n",
       "48846                        1                    0             0   \n",
       "7393                         0                    0             1   \n",
       "27886                        1                    0             0   \n",
       "\n",
       "       subject_US_News  subject_left-news  subject_politics  \\\n",
       "5192                 0                  0                 0   \n",
       "50057                0                  0                 0   \n",
       "21440                0                  0                 0   \n",
       "20609                0                  0                 0   \n",
       "49100                0                  0                 1   \n",
       "...                ...                ...               ...   \n",
       "63104                0                  0                 0   \n",
       "2446                 0                  0                 0   \n",
       "48846                0                  0                 0   \n",
       "7393                 0                  0                 0   \n",
       "27886                0                  0                 0   \n",
       "\n",
       "       subject_politicsNews  subject_worldnews  year  month  day  weekday  \\\n",
       "5192                      1                  0  2017      9    1        4   \n",
       "50057                     1                  0  2017     10   16        0   \n",
       "21440                     0                  0  2016      9   23        4   \n",
       "20609                     0                  0  2017      1   18        2   \n",
       "49100                     0                  0  2016      4   14        3   \n",
       "...                     ...                ...   ...    ...  ...      ...   \n",
       "63104                     0                  1  2017     12   13        2   \n",
       "2446                      1                  0  2017     11    9        3   \n",
       "48846                     0                  0  2017     10   27        4   \n",
       "7393                      0                  0  2017      6    4        6   \n",
       "27886                     0                  0  2017     10   16        0   \n",
       "\n",
       "       aprilfool_close  aprilfool_no  aprilfool_not sure  aprilfool_yes  \\\n",
       "5192                 0             1                   0              0   \n",
       "50057                0             1                   0              0   \n",
       "21440                0             1                   0              0   \n",
       "20609                0             1                   0              0   \n",
       "49100                0             1                   0              0   \n",
       "...                ...           ...                 ...            ...   \n",
       "63104                0             1                   0              0   \n",
       "2446                 0             1                   0              0   \n",
       "48846                0             1                   0              0   \n",
       "7393                 0             1                   0              0   \n",
       "27886                0             1                   0              0   \n",
       "\n",
       "                                                   title mark for title  \\\n",
       "5192   bombshell : senate intel committee hearing rev...   end of title   \n",
       "50057  paul ryan claims gop wouldn ’ t try to have de...   end of title   \n",
       "21440  long lost footage of bernie being arrested at ...   end of title   \n",
       "20609  former israeli prime minister blasts israeli g...   end of title   \n",
       "49100    house speaker ryan backs continued aid to egypt   end of title   \n",
       "...                                                  ...            ...   \n",
       "63104  pakistani court summons police in case of miss...   end of title   \n",
       "2446   trump gets humiliated by his own joint chiefs ...   end of title   \n",
       "48846  italian man sentenced to 24 years for infectin...   end of title   \n",
       "7393   trump responds to uk attack with apparent crit...   end of title   \n",
       "27886  u . s . military , in iraq , urges iraqis , ku...   end of title   \n",
       "\n",
       "                                                    text  label  \n",
       "5192   while the house intelligence committee s inves...      0  \n",
       "50057  sometimes you get the feeling that paul ryan h...      0  \n",
       "21440  a team of documentary filmmakers made what may...      0  \n",
       "20609  it appears that the curtain that hides the tru...      0  \n",
       "49100  washington ( reuters ) - u . s . house of repr...      1  \n",
       "...                                                  ...    ...  \n",
       "63104  lahore , pakistan ( reuters ) - a pakistani co...      1  \n",
       "2446   it appears donald trump jumped the gun when he...      0  \n",
       "48846  rome ( reuters ) - an italian man was sentence...      1  \n",
       "7393   london ( reuters ) - u . s . president donald ...      1  \n",
       "27886  washington ( reuters ) - the u . s . military ...      1  \n",
       "\n",
       "[1404 rows x 20 columns]"
      ]
     },
     "execution_count": 9,
     "metadata": {},
     "output_type": "execute_result"
    }
   ],
   "source": [
    "df_train"
   ]
  },
  {
   "cell_type": "markdown",
   "metadata": {},
   "source": [
    "## 1.2. Separation for X and Y"
   ]
  },
  {
   "cell_type": "code",
   "execution_count": 10,
   "metadata": {},
   "outputs": [],
   "source": [
    "def getXY(df):\n",
    "    X = df.iloc[:, :-1].values\n",
    "    y = df.iloc[:, -1].values\n",
    "    return X,y"
   ]
  },
  {
   "cell_type": "code",
   "execution_count": 11,
   "metadata": {},
   "outputs": [],
   "source": [
    "X_train,y_train = getXY(df_train)\n",
    "X_test, y_test = getXY(df_test)"
   ]
  },
  {
   "cell_type": "code",
   "execution_count": 12,
   "metadata": {},
   "outputs": [
    {
     "data": {
      "text/plain": [
       "19"
      ]
     },
     "execution_count": 12,
     "metadata": {},
     "output_type": "execute_result"
    }
   ],
   "source": [
    "len(X_test[0])"
   ]
  },
  {
   "cell_type": "code",
   "execution_count": 22,
   "metadata": {},
   "outputs": [
    {
     "data": {
      "text/plain": [
       "'end of title'"
      ]
     },
     "execution_count": 22,
     "metadata": {},
     "output_type": "execute_result"
    }
   ],
   "source": [
    "X_test[10][17]"
   ]
  },
  {
   "cell_type": "code",
   "execution_count": 13,
   "metadata": {},
   "outputs": [
    {
     "data": {
      "text/plain": [
       "351"
      ]
     },
     "execution_count": 13,
     "metadata": {},
     "output_type": "execute_result"
    }
   ],
   "source": [
    "len(X_test)"
   ]
  },
  {
   "cell_type": "code",
   "execution_count": 14,
   "metadata": {
    "scrolled": true
   },
   "outputs": [
    {
     "data": {
      "text/plain": [
       "array([[0, 0, 0, ...,\n",
       "        'florida rejected anti - terror bill ahead of attack in orlando',\n",
       "        'end of title',\n",
       "        'oh no ! florida killed a counter - terrorism bill right before the orlando attack . florida lawmakers rejected a key piece of counterterrorism legislation earlier this year , prompting outrage from some defense experts who told the washington free beacon that the victims of sunday s mass terror attack in orlando could have used the measure to hold those who plotted the assault accountable . on the heels of sunday s shooting , in which an attacker who pledged allegiance to the isis terror group killed 49 bystanders , marking the deadliest terror attack on u . s . soil since 9 / 11 , some are criticizing florida s legislature for rejecting a counter - terrorism bill that would have paved the way for victims of these crimes to sue the organizers and sponsors in state court . the legislation , known as andy s law , has already passed in at least five states but was rejected earlier this year by florida s legislature despite gaining bipartisan support from state lawmakers . florida republican house speaker steve crisafulli killed the counter - terror the bill by preventing it from coming to a full vote in the state house . the legislation could have empowered victims of sunday s attack to seek unprecedented recourse in state court by allowing them to file suit against the attackers and anyone identified as supporting the plot . any suit would have fallen under statutes governed by state rico laws . the law would have boosted criminal penalties for terrorism and the support of terrorism . it also provides state - level legal recourse for terror victims who have experienced trouble pursuing their cases on a federal level . while the florida version of andy s law overwhelmingly passed out of several committees in the state legislature , it failed to see final passage . unfortunately , because andy s law failed to pass in the florida house of representatives , victims of the orlando jihadist massacre , as well as their surviving family members , have been denied a powerful tool for seeking retribution against those individuals and organizations who may have supported or inspired omar mateen , the alleged perpetrator of sunday s attack , said christopher holton , vice president for outreach at the center for security policy . sunday s attack is just the latest terror assault to take place in the sunshine state . read more : wfb'],\n",
       "       [0, 1, 0, ...,\n",
       "        'boiler room – # unitetheright coverage with hesher , andy nowicki , patrick henningsen , funks 0 ul & randy j',\n",
       "        'end of title',\n",
       "        'tune in to the alternate current radio network ( acr ) for another live broadcast of the boiler room tonight 6 : 00 pm pst | 8 : 00 pm cst | 9 : 00 pm est for this special broadcast . join us for uncensored , uninterruptible talk radio , custom - made for bar fly philosophers , misguided moralists , masochists , street corner evangelists , media - maniacs , savants , political animals and otherwise lovable rascals . join acr host hesher and along side andy nowicki ( the alt right novelist ) reporting live from the # unitetheright rally in va , patrick henningsen of 21 st century wire and funksoul & randy j ( 21 wire & acr contributors ) , for this special broadcast of boiler room . today on the show the acr brain - trust is having an emergency meeting to cover andy nowicki s experience at the unite the right rally in va . hesher , funksoul , randy j and patrick henningsen were also covering the live updates of the news scene at the very same rally , where several cars were involved in a hit and run style event that ended with multiple injuries and fatalities reported . direct download episode # 121 please like and share the program and visit our donate page to get involved ! reference links , for your consideration and research :'],\n",
       "       [0, 0, 0, ..., 'pence used private email while indiana governor',\n",
       "        'end of title',\n",
       "        'washington ( reuters ) - u . s . vice president mike pence used a private email account to conduct public business as governor of indiana , his office said in a statement on thursday . the private email account was first reported by the indianapolis star , which said pence used it at times to discuss sensitive matters and homeland security issues . the account was hacked last summer , the newspaper added . during the 2016 presidential campaign , pence criticized democratic nominee hillary clinton ’ s use of a private email server while she was u . s . secretary of state , saying it endangered national security . “ similar to previous governors , during his time as governor of indiana , mike pence maintained a state email account and a personal email account , ” pence ’ s office said in a statement . indiana law does not prohibit public officials from using personal email accounts , the star said . after pence was hacked in june by a scammer who sent a plea for money to his email contacts , the governor set up a new aol account , the star reported . pence was chosen by then - republican candidate donald trump as his running mate in july . indiana law requires all records dealing with state business to be retained and available for public information requests , the star reported . pence ’ s office said in the statement that he directed outside counsel to review all of his communications as indiana governor to ensure that state - related emails were being transferred and properly archived by the state .'],\n",
       "       ...,\n",
       "       [0, 0, 0, ...,\n",
       "        'conservative columnist george will : the gop is the party of white people ( video )',\n",
       "        'end of title',\n",
       "        'because of donald trump , republicans are finally being forced to admit that their party is a racist haven that caters to whites only . during an appearance on fox news sunday , longtime conservative columnist george will told host chris wallace that the republican party is now the party of white people and he specifically blamed gop frontrunner donald trump for it . trump is in the george wallace tradition , will said in reference to the staunch alabama segregationist who ran for president back in 1964 and 1968 . will continued by saying that wallace said that there s too much dignity in american politics , we have to have more meanness . will noted that unlike wallace , trump has support all of over the country , but pointed out problems trump and the republican party face . the problem is this . not only are his negatives at 61 percent almost double his positives , they are at 32 percent but he s appealing entirely to white people . will explained that appealing for white votes is not enough for any national candidate to win elections anymore unless they receive a ridiculous percentage of the vote and that candidates must receive a sizable percentage of votes from other ethnic groups as well if they want to achieve victory in 21 st century america . mitt romney got 17 percent that s all of the non - white vote . trump , by every measure , would do worse than that . which means he would not have to get just the 65 percent of the white vote to win that ronald reagan got , sweeping 49 states . he would have to get 70 percent of the white vote . a , it won t happen and b , it would destroy the republican party by making it the party of white people . here s the video via youtube . indeed , trump s incendiary remarks about hispanics and muslims and the way his supporters have treated black protesters during rallies makes it highly unlikely he will capture many votes if any at all from those voting groups . when president obama won a second term in 2012 , he did so with 75 percent of the hispanic vote and only less than half of eligible hispanic voters actually showed up to vote . trump s hateful comments toward the hispanic community make it more likely that that both percentages will rise in 2016 to the benefit of the democratic candidate . and not only did african - americans have a higher turnout rate than white voters in 2012 , 93 percent of them voted for president obama . the outright racism of the gop in this election cycle could very well be enough to drive pissed off hispanics and african - americans to the voting booth in droves . and that could spell doom for the gop . featured image via free wood post'],\n",
       "       [0, 0, 0, ...,\n",
       "        'take the poll : tell us who you think will be trump ’ s best choice for vp',\n",
       "        'end of title',\n",
       "        'trump will announce his vp pick tomorrow . rumor has it , he has narrowed the field down to these two candidates , governor mike pence and donald trump . who do you think would be his best choice ? take our poll here : indiana gov . mike pence would bring constitutional fidelity , conservative credentials , traditional faith , foreign policy , washington know - how , and a calm , steady , midwestern demeanor to a national ticket with donald trump , boosting the new york businessman with several types of voters that may prove to be the key to building an electoral coalition that could propel trump into the white house . pence was an indiana talk show host who took on the party establishment to get into congress . once there , he was regularly a thorn in the establishment s side , routinely opposing the go - along - to - get - along establishment playbook . but he did so as a happy warrior who kept disagreement focused on policies , while being friendly and personable with his opponents . over time , pence became very popular among conservatives , and effective at communicating a conservative message through the national media . pence repeatedly opposed george w . bush s proposals to expand government . when republicans lost the u . s . house in 2006 , pence took the ultimate anti - establishment step of running against john boehner to be the leader of house republicans . he lost that bid , but garners almost 30 voters against the future speaker , making a name for himself as someone willing to oppose anyone who pence believed would not lead as a conservative . pence was regarded as an effective legislator under both republican and democratic presidents . trump has no experience negotiating with congress or experience with the vast complexity of the federal government . pence could remedy all that . pence is also an evangelical christian with a model family . for a much more in - depth look at governor mike pence and what he brings to a trump ticket : breitbart 1 . ) trump said he wants and frankly needs a political person who knows the congressional game as well as the players . as a former house speaker , newt fits that bill to a t . 2 . ) newt has run for president himself and so is completely familiar with and experienced in being a national candidate . as such , he s also already been vetted to the max . there will be no surprises . 3 . ) the traditional role of the running mate is attack dog against the opposition . not that trump needs any help in that department , but gingrich would certainly make a great tag team partner on the campaign trail against crooked and pocohantas though newt will refer to them in far more genial terms . 4 . ) trump has the right instincts on a wide variety of issues , but gingrich has thought them all the way through and then some . you want specifics ? gingrich has em . in spades . and he can articulate them in a way the average joe can understand . a great communicator in his own right . 5 . ) the liberal media can and will chew up and spit out gop running mates who aren t ready for prime time . exhibit # 1 : dan quayle . exhibit # 2 : sarah palin . that won t happen with gingrich . he gives to the media every bit as good as he gets from the media . 6 . ) newt has spent a lifetime in politics helping candidates up and down the ballot in every state . he also knows , understands and will assist conservative grassroots organizations , as well as state and county parties . a true gop party soldier who understands the nuts and bolts of building a political ground game . 7 . ) he is a prolific fundraiser who has his own stable of gop mega - donors such as sheldon adelson of the las vegas sands who stand ready , willing and able to assist the former house speaker and his running mate . 8 . ) he is an admirer of the tea party and has been openly supportive of the movement . he s also familiar with the gop establishment and the k - street gang and can work with them . he s also proven particularly adept at reaching across the aisle and working with the opposition when the situation or issue properly calls for it . for entire list of reasons newt gingrich would be trump s best choice for vp , go here : chuck muth s news and views'],\n",
       "       [0, 0, 1, ...,\n",
       "        'trump may already have a plan ready to revamp dodd - frank',\n",
       "        'end of title',\n",
       "        'washington ( reuters ) - when jeb hensarling , the republican chair of the u . s . house financial services committee , released legislation this summer to weaken the major financial law known as dodd - frank , many said it was a pr ê t - a - porter plan that his party ’ s nominee , donald trump , could easily adopt . now that trump is president - elect , he appears to be doing just that . language about financial services posted on the trump transition website , www . greatagain . gov , echoes the tone of hensarling ’ s bill , known as the choice act . it calls dodd - frank , passed in the wake of the 2007 - 09 financial crisis and recession , as “ a sprawling and complex piece of legislation that has unleashed hundreds of new rules and several new bureaucratic agencies ” and promises to dismantle and replace it with “ new policies to encourage economic growth and job creation . ” hensarling ’ s legislation , which his committee approved in september , also takes a replacement approach . the texas republican had unveiled his proposal in trump ’ s hometown of new york in june , and then met with the businessman later in the day . at the same time , hensarling was mentioned as a possible treasury secretary by trump ’ s team . he has said he is not pursuing a cabinet position . “ the choice act accurately reflects the priorities that president trump has placed on the dodd - frank problem , ” said j . w . verret , an associate professor at the george mason university antonin scalia law school and financial regulation expert . verret regularly meets with and briefs members of congress and the securities and exchange commission on financial regulation . i think it is a great blueprint for everything that he has promised , ” said verret , a former republican congressional staffer . the hensarling blueprint would primarily allow banks to choose between complying with dodd - frank or meeting tougher capital requirements - primarily to maintain a ratio of tangible equity to leverage exposure of 10 percent . it would also reorganize the consumer financial protection bureau , throw out the volcker rule restricting banks from making speculative investments and eliminate the authority of the financial stability oversight council to designate non - banks as “ systemically important . ” it also differs from the dodd - frank legislation in the way it treats insolvent banks . hensarling says his approach will prevent taxpayer dollars from being used to bail out failed institutions . alongside obamacare , dodd - frank is considered one of democratic president barack obama ’ s signature domestic policies . the most senior democrat on the senate banking committee , sherrod brown , has been a vocal defender of it , as has liberal firebrand senator elizabeth warren . that means a dodd - frank revamp could stall in one chamber of congress . senate rules allow a single member to block a bill from proceeding to a vote . trump said last may that he would dismantle dodd - frank , primarily because the law makes it hard for banks to loan money . but few have called for total demolition of it , with bank industry sources privately saying they would like to see an easing of dodd - frank rules . trump campaign adviser anthony scaramucci , a wall street financier , said this week that the administration will review the law and “ the worst anti - business parts of it will be gutted . ” verret said he believes some components of the choice act will appeal to the populist anger felt by tea party members and trump supporters toward big banks . one such provision , he said , would place limits on how central banks can lend to financial institutions in times of crisis , an in effort to prevent future bailouts . this kind of reform , he added , appeals “ to both populists and free market thinkers at the same time . ”']],\n",
       "      dtype=object)"
      ]
     },
     "execution_count": 14,
     "metadata": {},
     "output_type": "execute_result"
    }
   ],
   "source": [
    "X_test"
   ]
  },
  {
   "cell_type": "code",
   "execution_count": 23,
   "metadata": {},
   "outputs": [
    {
     "data": {
      "text/plain": [
       "array([0, 0, 1, 0, 0, 1, 1, 0, 1, 0, 0, 0, 0, 1, 0, 1, 1, 1, 0, 1, 1, 0,\n",
       "       1, 0, 1, 0, 1, 1, 0, 1, 1, 0, 0, 1, 0, 0, 0, 1, 0, 1, 1, 0, 0, 1,\n",
       "       1, 0, 0, 0, 1, 1, 1, 0, 0, 0, 0, 1, 1, 1, 1, 0, 0, 0, 1, 1, 0, 0,\n",
       "       1, 0, 1, 0, 1, 0, 0, 0, 0, 0, 1, 1, 0, 1, 1, 1, 0, 1, 0, 0, 0, 0,\n",
       "       1, 1, 0, 0, 0, 0, 1, 0, 0, 1, 0, 0, 1, 0, 0, 1, 0, 0, 1, 1, 1, 0,\n",
       "       1, 0, 1, 1, 0, 0, 0, 0, 1, 1, 0, 1, 1, 0, 1, 1, 1, 1, 0, 1, 1, 0,\n",
       "       0, 1, 0, 0, 0, 1, 1, 1, 0, 1, 1, 1, 1, 1, 1, 1, 0, 0, 0, 0, 0, 1,\n",
       "       0, 1, 0, 1, 1, 0, 1, 1, 0, 0, 0, 1, 0, 0, 1, 1, 1, 1, 0, 1, 1, 0,\n",
       "       0, 0, 0, 1, 1, 1, 1, 1, 1, 0, 0, 1, 1, 0, 0, 1, 1, 1, 1, 0, 0, 0,\n",
       "       0, 0, 1, 0, 0, 1, 1, 1, 0, 0, 0, 0, 1, 1, 1, 0, 0, 0, 1, 0, 1, 0,\n",
       "       1, 1, 0, 1, 1, 0, 0, 1, 1, 1, 1, 0, 0, 1, 1, 0, 1, 1, 0, 1, 0, 0,\n",
       "       0, 0, 0, 0, 0, 1, 0, 1, 0, 1, 0, 1, 0, 0, 1, 0, 0, 0, 1, 0, 0, 1,\n",
       "       0, 0, 1, 0, 0, 1, 1, 1, 0, 1, 0, 1, 0, 0, 0, 1, 0, 0, 1, 1, 0, 1,\n",
       "       1, 0, 0, 0, 1, 0, 1, 1, 0, 0, 0, 1, 0, 0, 0, 0, 0, 1, 1, 0, 0, 1,\n",
       "       0, 0, 0, 1, 1, 1, 1, 0, 0, 1, 0, 1, 0, 1, 0, 0, 1, 0, 1, 0, 0, 1,\n",
       "       0, 1, 1, 1, 0, 1, 0, 1, 0, 0, 1, 1, 1, 0, 1, 0, 1, 0, 0, 0, 1],\n",
       "      dtype=int64)"
      ]
     },
     "execution_count": 23,
     "metadata": {},
     "output_type": "execute_result"
    }
   ],
   "source": [
    "y_test"
   ]
  },
  {
   "cell_type": "markdown",
   "metadata": {},
   "source": [
    "# 2. Vectorization\n",
    "## 2.1. Import GloVe pre-trained Data"
   ]
  },
  {
   "cell_type": "code",
   "execution_count": 24,
   "metadata": {},
   "outputs": [],
   "source": [
    "# import learned embedding resource glove pretrained data\n",
    "GloVe_path=\".\\DataSet\\glove.840B.300d.txt\""
   ]
  },
  {
   "cell_type": "code",
   "execution_count": 25,
   "metadata": {},
   "outputs": [],
   "source": [
    "# function for loading GloVe\n",
    "def load_glove(path):\n",
    "    glove_dict = dict()\n",
    "    words = list()\n",
    "    with open(path, mode='r', encoding=\"utf-8\") as vec_file:\n",
    "        for line in tqdm(vec_file):\n",
    "            values = line.split()\n",
    "            word = values[0]\n",
    "            vec = np.array(values[1:])\n",
    "            glove_dict[word] = vec\n",
    "\n",
    "    print(\"There are {0} distinct word vectors in this pretrained GloVe DataSet.\".format(len(glove_dict)))\n",
    "    return glove_dict"
   ]
  },
  {
   "cell_type": "code",
   "execution_count": 26,
   "metadata": {},
   "outputs": [
    {
     "name": "stderr",
     "output_type": "stream",
     "text": [
      "2196017it [01:59, 18349.01it/s]"
     ]
    },
    {
     "name": "stdout",
     "output_type": "stream",
     "text": [
      "There are 2195884 distinct word vectors in this pretrained GloVe DataSet.\n"
     ]
    },
    {
     "name": "stderr",
     "output_type": "stream",
     "text": [
      "\n"
     ]
    }
   ],
   "source": [
    "glove_dict = load_glove(GloVe_path)"
   ]
  },
  {
   "cell_type": "code",
   "execution_count": 48,
   "metadata": {},
   "outputs": [],
   "source": [
    "# function for get vectorization of sentence and output as matrix\n",
    "def getVec(sentence):\n",
    "    'function for getting vector of the sentence'\n",
    "    try:\n",
    "        sentence = re.sub(r' +',r' ',sentence)\n",
    "        word_list=sentence.split()\n",
    "        sentence_matrix = list()\n",
    "        for word in word_list:\n",
    "            try:\n",
    "                vec = glove_dict[word]\n",
    "                vec = np.array(vec).astype(np.float)\n",
    "                sentence_matrix.append(vec)\n",
    "            except:\n",
    "                pass\n",
    "        sentence_matrix = np.array(sentence_matrix)\n",
    "        \n",
    "    except TypeError:# if there is np.nan value\n",
    "        sentence_matrix = np.zeros((1,300))\n",
    "    return sentence_matrix"
   ]
  },
  {
   "cell_type": "code",
   "execution_count": 49,
   "metadata": {},
   "outputs": [
    {
     "name": "stdout",
     "output_type": "stream",
     "text": [
      "4\n"
     ]
    },
    {
     "data": {
      "text/plain": [
       "array([[ 0.18733 ,  0.40595 , -0.51174 , ...,  0.16495 ,  0.18757 ,\n",
       "         0.53874 ],\n",
       "       [-0.18417 ,  0.055115, -0.36953 , ..., -0.23808 ,  0.37132 ,\n",
       "         0.36197 ],\n",
       "       [-0.62388 ,  0.21805 ,  0.29327 , ..., -0.96244 ,  0.28478 ,\n",
       "         0.27701 ],\n",
       "       [-0.13199 ,  0.15186 , -0.65313 , ..., -0.33259 , -0.17585 ,\n",
       "         0.12933 ]])"
      ]
     },
     "execution_count": 49,
     "metadata": {},
     "output_type": "execute_result"
    }
   ],
   "source": [
    "# test\n",
    "sen1=\"i like milk\"\n",
    "sen2='ok'\n",
    "ma1=getVec(sen1)\n",
    "ma2=getVec(sen2)\n",
    "ma3 = np.append(ma1,ma2,0)\n",
    "print(len(ma3))\n",
    "ma3"
   ]
  },
  {
   "cell_type": "markdown",
   "metadata": {},
   "source": [
    "## 2.2. Vectorization for Deep Learning"
   ]
  },
  {
   "cell_type": "code",
   "execution_count": 55,
   "metadata": {},
   "outputs": [],
   "source": [
    "# function for vectorization of X\n",
    "def vectorization(X):\n",
    "    X_out = list()\n",
    "    for eachRow in tqdm(X):\n",
    "        text_row = ''\n",
    "        for eachEle in eachRow:# concatenate the attributes into one sentence\n",
    "            text_row = text_row +\" \" +str(eachEle)\n",
    "        \n",
    "        text_row = text_row.strip()\n",
    "        text_matrix = getVec(text_row)\n",
    "        X_out.append(text_matrix)\n",
    "    X_out = np.array(X_out)\n",
    "    return X_out"
   ]
  },
  {
   "cell_type": "code",
   "execution_count": 56,
   "metadata": {},
   "outputs": [
    {
     "name": "stderr",
     "output_type": "stream",
     "text": [
      "100%|████████████████████████████████████████████████████████████████████████████████| 351/351 [00:21<00:00, 16.54it/s]\n"
     ]
    }
   ],
   "source": [
    "X_test_vec = vectorization(X_test)"
   ]
  },
  {
   "cell_type": "code",
   "execution_count": 23,
   "metadata": {},
   "outputs": [
    {
     "name": "stderr",
     "output_type": "stream",
     "text": [
      "100%|██████████████████████████████████████████████████████████████████████████████| 1404/1404 [01:30<00:00, 15.48it/s]\n"
     ]
    }
   ],
   "source": [
    "X_train_vec = vectorization(X_train)"
   ]
  },
  {
   "cell_type": "code",
   "execution_count": 57,
   "metadata": {},
   "outputs": [
    {
     "name": "stdout",
     "output_type": "stream",
     "text": [
      "351\n"
     ]
    },
    {
     "ename": "NameError",
     "evalue": "name 'X_train_vec' is not defined",
     "output_type": "error",
     "traceback": [
      "\u001b[1;31m---------------------------------------------------------------------------\u001b[0m",
      "\u001b[1;31mNameError\u001b[0m                                 Traceback (most recent call last)",
      "\u001b[1;32m<ipython-input-57-9dad5873ed1b>\u001b[0m in \u001b[0;36m<module>\u001b[1;34m\u001b[0m\n\u001b[0;32m      1\u001b[0m \u001b[0mprint\u001b[0m\u001b[1;33m(\u001b[0m\u001b[0mlen\u001b[0m\u001b[1;33m(\u001b[0m\u001b[0mX_test_vec\u001b[0m\u001b[1;33m)\u001b[0m\u001b[1;33m)\u001b[0m\u001b[1;33m\u001b[0m\u001b[1;33m\u001b[0m\u001b[0m\n\u001b[1;32m----> 2\u001b[1;33m \u001b[0mprint\u001b[0m\u001b[1;33m(\u001b[0m\u001b[0mlen\u001b[0m\u001b[1;33m(\u001b[0m\u001b[0mX_train_vec\u001b[0m\u001b[1;33m)\u001b[0m\u001b[1;33m)\u001b[0m\u001b[1;33m\u001b[0m\u001b[1;33m\u001b[0m\u001b[0m\n\u001b[0m",
      "\u001b[1;31mNameError\u001b[0m: name 'X_train_vec' is not defined"
     ]
    }
   ],
   "source": [
    "print(len(X_test_vec))\n",
    "print(len(X_train_vec))"
   ]
  },
  {
   "cell_type": "code",
   "execution_count": 25,
   "metadata": {
    "scrolled": true
   },
   "outputs": [
    {
     "data": {
      "text/plain": [
       "array([-2.9710e-01,  5.2555e-01, -1.1982e-01,  2.2320e-01, -2.9821e-01,\n",
       "       -1.4652e-01, -3.5873e-01, -5.6424e-01,  4.5164e-01,  3.2841e-01,\n",
       "        2.9934e-01,  2.4738e-02, -8.8498e-01, -4.7742e-03, -4.1028e-01,\n",
       "        3.1131e-02, -9.5197e-02,  1.9017e+00, -6.3973e-01, -2.5414e-01,\n",
       "       -2.2079e-02,  4.3251e-02, -1.7333e-01,  6.8227e-02,  2.0963e-01,\n",
       "       -5.2900e-01,  8.8352e-02,  2.1385e-01,  1.8160e-01,  3.4159e-01,\n",
       "        2.5816e-01, -4.0376e-01,  2.9269e-02, -2.6315e-01,  7.9829e-01,\n",
       "        1.7313e-01,  2.2382e-01,  4.1699e-01, -1.3711e-01,  7.7650e-02,\n",
       "       -2.6138e-02, -5.7187e-01,  4.0936e-01,  4.6736e-02, -1.8373e-01,\n",
       "       -2.2086e-01, -1.1758e-01,  1.1521e+00, -1.9167e-01, -3.6863e-02,\n",
       "       -2.5841e-01,  2.1220e-01, -1.7783e-01, -8.1226e-01,  2.6196e-01,\n",
       "        2.6904e-01, -1.7779e-01,  5.6400e-01,  3.9413e-01, -1.2212e-01,\n",
       "        3.2701e-01, -2.7895e-01,  1.3530e-01, -1.2869e-01, -2.7203e-01,\n",
       "       -1.3178e-01,  6.3718e-01, -1.7704e-01,  3.4271e-01, -5.4041e-01,\n",
       "        2.7269e-01,  1.4450e-01, -2.5152e-01, -4.0368e-03,  1.7605e-01,\n",
       "        2.9590e-01,  3.1099e-01, -1.9099e-01,  2.0589e-01,  5.3298e-01,\n",
       "       -2.0605e-01,  1.7751e-01,  1.2932e-01, -5.4265e-01, -4.4561e-02,\n",
       "        6.1104e-02,  9.0919e-01, -6.9585e-01,  3.1651e-02,  3.0711e-02,\n",
       "        2.7718e-02,  4.6635e-02,  1.5595e-01, -1.6274e-01, -3.7063e-01,\n",
       "        2.3436e-01,  3.3108e-01,  3.4756e-01,  1.9928e-01, -2.5929e-01,\n",
       "        1.1521e-01, -3.9975e-01,  2.5771e-01,  5.7043e-01,  4.2857e-01,\n",
       "        2.2912e+00, -4.1837e-01,  6.9340e-02, -2.7540e-01,  1.7149e-01,\n",
       "        3.6065e-01, -8.7674e-01, -5.9413e-02,  2.0239e-02,  2.6826e-01,\n",
       "        3.2903e-01,  2.8146e-01,  3.0011e-02, -2.9875e-01, -5.7408e-01,\n",
       "       -4.4041e-01, -1.3040e-01, -4.0002e-01, -4.3278e-01,  3.8938e-01,\n",
       "        4.9177e-02, -3.4717e-01,  1.6699e-01, -4.0867e-01, -7.5737e-01,\n",
       "        4.3701e-01,  5.5166e-01, -2.5385e-01,  3.5144e-02, -1.3919e-01,\n",
       "       -3.1820e-01, -1.8480e-01,  6.4394e-02,  8.1388e-02, -2.6029e-01,\n",
       "       -9.3730e-02,  6.8160e-01,  2.5086e-01,  4.5983e-01,  1.3168e-01,\n",
       "        1.9733e-01, -7.7413e-01, -4.8869e-01, -9.1906e-02,  4.4752e-02,\n",
       "        5.0020e-01, -5.0008e-01, -2.6952e-01,  3.2040e-01, -2.2739e-01,\n",
       "       -4.6858e-01,  1.7140e-01,  7.0420e-01,  3.7658e-01, -2.4635e-01,\n",
       "        3.5878e-01, -1.5463e-01, -4.5971e-02, -5.9793e-01, -3.3336e-01,\n",
       "       -2.2612e-01, -1.1575e-01, -3.7225e-01, -4.8027e-01, -8.1048e-02,\n",
       "        1.9846e-01,  1.2446e-01, -1.3914e-01, -4.9467e-01, -9.8119e-02,\n",
       "       -1.5235e-01,  2.6934e-01,  9.7824e-02,  2.8187e-01, -3.5207e-01,\n",
       "        3.7317e-01,  4.3743e-01,  7.9996e-02,  1.7403e-01, -8.5987e-01,\n",
       "       -2.5366e-01,  2.4318e-01,  3.0395e-01,  1.5476e-01, -1.6018e-01,\n",
       "       -6.9892e-01,  4.9987e-01, -8.3055e-02, -2.1129e-01, -4.0056e-01,\n",
       "       -4.5519e-01,  2.2973e-01, -8.2720e-01, -2.1301e-02,  4.5286e-01,\n",
       "        9.9972e-01, -2.9031e-01, -2.7787e-01,  2.2651e-01,  4.5183e-01,\n",
       "       -2.9840e-01, -4.0565e-02, -2.1793e-01,  4.8456e-02, -1.3488e-02,\n",
       "       -2.1372e-01, -5.3159e-01,  5.3245e-01, -2.8703e-01, -2.1999e-01,\n",
       "       -2.2977e-02,  1.8411e-01,  3.6701e-02, -9.0872e-01, -1.7778e-01,\n",
       "        5.9859e-02,  1.1492e-01, -5.5285e-01,  4.1117e-02, -2.8146e-01,\n",
       "        3.6858e-01,  1.9768e-01, -4.0235e-02,  5.7068e-02,  3.6418e-01,\n",
       "       -1.7100e-02, -3.2411e-01,  1.4190e-01,  1.2945e-01, -1.8801e-01,\n",
       "       -9.2857e-04, -5.5672e-01,  1.0305e-01, -1.8436e-01,  2.6126e-01,\n",
       "       -9.0672e-02, -8.9488e-03, -3.0774e-02,  6.3140e-01, -1.4196e-01,\n",
       "       -1.7524e-01,  1.1415e-01, -2.4621e-01, -3.0103e-01,  4.4558e-02,\n",
       "        1.9990e-02,  3.8032e-01,  3.9464e-01, -4.4855e-01,  5.6894e-02,\n",
       "        1.0369e+00, -3.6632e-01, -1.4485e-01, -3.4799e-02, -4.6696e-01,\n",
       "        3.2075e-01,  1.4376e-01, -1.3008e-01,  6.8679e-01,  5.1683e-01,\n",
       "       -6.2334e-01,  6.0542e-01, -5.4199e-01,  4.3097e-01, -7.0613e-01,\n",
       "       -5.4260e-01,  2.3687e-01,  9.6618e-02, -1.1831e-01,  4.0937e-01,\n",
       "        2.3619e-02, -2.0032e-01, -8.4460e-02, -3.7583e-01, -8.5389e-02,\n",
       "       -3.8796e-01,  4.0746e-01, -5.9514e-02,  2.8511e-01,  1.6914e-01,\n",
       "       -5.7220e-01,  1.5174e-01, -2.1571e-02,  4.4946e-01,  5.5456e-01,\n",
       "        6.3536e-01,  7.4016e-01, -1.8430e-01,  1.7613e-01,  5.1937e-02,\n",
       "       -8.2339e-01, -7.1528e-01, -5.3129e-01, -2.3913e-01,  2.7921e-01])"
      ]
     },
     "execution_count": 25,
     "metadata": {},
     "output_type": "execute_result"
    }
   ],
   "source": [
    "X_test_vec[0][0]"
   ]
  },
  {
   "cell_type": "markdown",
   "metadata": {},
   "source": [
    "## 2.3. Vectorization for Machine Learning"
   ]
  },
  {
   "cell_type": "code",
   "execution_count": 51,
   "metadata": {},
   "outputs": [],
   "source": [
    "# function for vectorization only the text part of X, and use the average vector as the new attributes to replace the text column\n",
    "def vectorizationPart(X,pos_title=16,pos_text=18):\n",
    "    X_out = list()\n",
    "    for eachRow in tqdm(X):\n",
    "        list_row=list()\n",
    "        for i in range(pos_title):\n",
    "            # make categorical attributes\n",
    "            list_row.append(eachRow[i])\n",
    "        #print(eachRow[pos_title])\n",
    "        #try:\n",
    "        title_vec = getVec(eachRow[pos_title])\n",
    "        title_vec_mean = list(np.mean(title_vec,axis=0))\n",
    "        #except:\n",
    "        #    title_vec_mean = np.zeros((1,300))\n",
    "        #    title_vec_mean = list(title_vec_mean[0])\n",
    "        list_row = list_row + title_vec_mean\n",
    "        #print(eachRow[pos_text])\n",
    "        #try:\n",
    "        text_vec = getVec(eachRow[pos_text])\n",
    "        text_vec_mean = list(np.mean(text_vec,axis=0))\n",
    "            \n",
    "        #except:\n",
    "        #    text_vec_mean = np.zeros((1,300))\n",
    "        #    text_vec_mean = list(title_vec_mean[0])\n",
    "        list_row = list_row + text_vec_mean\n",
    "        \n",
    "        list_row = np.array(list_row)\n",
    "\n",
    "            \n",
    "        X_out.append(list_row)\n",
    "    X_out = np.array(X_out)\n",
    "    return X_out"
   ]
  },
  {
   "cell_type": "code",
   "execution_count": 52,
   "metadata": {},
   "outputs": [
    {
     "name": "stderr",
     "output_type": "stream",
     "text": [
      "100%|████████████████████████████████████████████████████████████████████████████████| 351/351 [00:23<00:00, 15.04it/s]\n",
      "100%|██████████████████████████████████████████████████████████████████████████████| 1404/1404 [01:25<00:00, 16.44it/s]\n"
     ]
    }
   ],
   "source": [
    "X_test_cols = vectorizationPart(X_test)\n",
    "X_train_cols = vectorizationPart(X_train)"
   ]
  },
  {
   "cell_type": "code",
   "execution_count": 60,
   "metadata": {},
   "outputs": [
    {
     "data": {
      "text/plain": [
       "array([[ 0.        ,  0.        ,  0.        , ..., -0.10328256,\n",
       "         0.02047796,  0.05256463],\n",
       "       [ 0.        ,  1.        ,  0.        , ..., -0.08553779,\n",
       "        -0.09282349,  0.06472201],\n",
       "       [ 0.        ,  0.        ,  0.        , ..., -0.11412325,\n",
       "        -0.0410173 ,  0.05300926],\n",
       "       ...,\n",
       "       [ 0.        ,  0.        ,  0.        , ..., -0.09853726,\n",
       "         0.01338801,  0.03899308],\n",
       "       [ 0.        ,  0.        ,  0.        , ..., -0.10059129,\n",
       "         0.01005148,  0.02113287],\n",
       "       [ 0.        ,  0.        ,  1.        , ..., -0.09528402,\n",
       "         0.03270608,  0.0228382 ]])"
      ]
     },
     "execution_count": 60,
     "metadata": {},
     "output_type": "execute_result"
    }
   ],
   "source": [
    "X_test_cols"
   ]
  },
  {
   "cell_type": "markdown",
   "metadata": {},
   "source": [
    "# 3. Storage"
   ]
  },
  {
   "cell_type": "code",
   "execution_count": 61,
   "metadata": {},
   "outputs": [],
   "source": [
    "# function for saving as pickle file\n",
    "def saveData(name,data):\n",
    "    pickle_file = open('DataSet\\\\'+name,mode='wb')\n",
    "    pickle.dump(data,pickle_file)\n",
    "    pickle_file.close()"
   ]
  },
  {
   "cell_type": "code",
   "execution_count": 27,
   "metadata": {},
   "outputs": [],
   "source": [
    "saveData('y_train.pkl',y_train)\n",
    "saveData('y_test.pkl',y_test)\n",
    "saveData('X_train_vec.pkl',X_train_vec)\n",
    "saveData('X_test_vec.pkl',X_test_vec)"
   ]
  },
  {
   "cell_type": "code",
   "execution_count": 62,
   "metadata": {},
   "outputs": [],
   "source": [
    "saveData('X_train_cols.pkl',X_train_cols)\n",
    "saveData('X_test_cols.pkl',X_test_cols)"
   ]
  },
  {
   "cell_type": "code",
   "execution_count": null,
   "metadata": {},
   "outputs": [],
   "source": []
  }
 ],
 "metadata": {
  "kernelspec": {
   "display_name": "Python 3",
   "language": "python",
   "name": "python3"
  },
  "language_info": {
   "codemirror_mode": {
    "name": "ipython",
    "version": 3
   },
   "file_extension": ".py",
   "mimetype": "text/x-python",
   "name": "python",
   "nbconvert_exporter": "python",
   "pygments_lexer": "ipython3",
   "version": "3.8.3"
  }
 },
 "nbformat": 4,
 "nbformat_minor": 4
}
